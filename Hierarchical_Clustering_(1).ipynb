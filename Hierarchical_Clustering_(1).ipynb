{
  "cells": [
    {
      "cell_type": "markdown",
      "metadata": {
        "heading_collapsed": true,
        "id": "fhG-bzzWPQ3i"
      },
      "source": [
        "# Setup"
      ]
    },
    {
      "cell_type": "code",
      "execution_count": null,
      "metadata": {
        "ExecuteTime": {
          "end_time": "2021-09-19T04:10:52.613279Z",
          "start_time": "2021-09-19T04:10:50.274537Z"
        },
        "hidden": true,
        "id": "lCpMXigaPQ3p",
        "outputId": "21c5fd23-caea-4d61-994c-a9b9c1aaa20c"
      },
      "outputs": [
        {
          "name": "stderr",
          "output_type": "stream",
          "text": [
            "\n",
            "Bad key \"text.kerning_factor\" on line 4 in\n",
            "/Users/anaconda3/lib/python3.7/site-packages/matplotlib/mpl-data/stylelib/_classic_test_patch.mplstyle.\n",
            "You probably need to get an updated matplotlibrc file from\n",
            "http://github.com/matplotlib/matplotlib/blob/master/matplotlibrc.template\n",
            "or from the matplotlib source distribution\n",
            "/Users/anaconda3/lib/python3.7/site-packages/statsmodels/tools/_testing.py:19: FutureWarning: pandas.util.testing is deprecated. Use the functions in the public API at pandas.testing instead.\n",
            "  import pandas.util.testing as tm\n"
          ]
        }
      ],
      "source": [
        "# import hierarchical clustering libraries\n",
        "import scipy.cluster.hierarchy as sch\n",
        "from sklearn.cluster import AgglomerativeClustering\n",
        "import numpy as np\n",
        "import pandas as pd\n",
        "from matplotlib import pyplot as plt\n",
        "import seaborn as sn\n",
        "from sklearn.cluster import KMeans"
      ]
    },
    {
      "cell_type": "code",
      "execution_count": null,
      "metadata": {
        "ExecuteTime": {
          "end_time": "2021-09-18T06:21:06.715521Z",
          "start_time": "2021-09-18T06:21:06.534652Z"
        },
        "hidden": true,
        "id": "OFo0ok6KPQ3s",
        "outputId": "3895efdf-44b1-4039-a713-fa4ecd16d218"
      },
      "outputs": [
        {
          "name": "stdout",
          "output_type": "stream",
          "text": [
            "Hierarchical Clustering (1).ipynb  Universities (1).csv\r\n",
            "Hierarchical.py                    kmeans.py\r\n"
          ]
        }
      ],
      "source": [
        "ls"
      ]
    },
    {
      "cell_type": "code",
      "execution_count": null,
      "metadata": {
        "ExecuteTime": {
          "end_time": "2021-09-18T06:21:18.115554Z",
          "start_time": "2021-09-18T06:21:18.082249Z"
        },
        "hidden": true,
        "id": "c7d-Oke9PQ3t"
      },
      "outputs": [],
      "source": [
        "Univ = pd.read_csv(\"Universities.csv\")"
      ]
    },
    {
      "cell_type": "code",
      "execution_count": null,
      "metadata": {
        "ExecuteTime": {
          "end_time": "2021-08-28T09:49:42.503149Z",
          "start_time": "2021-08-28T09:49:42.460532Z"
        },
        "hidden": true,
        "id": "CKwXfMSaPQ3u",
        "outputId": "e477eaa2-8676-4f24-b46e-a506feec68f3"
      },
      "outputs": [
        {
          "data": {
            "text/html": [
              "<div>\n",
              "<style scoped>\n",
              "    .dataframe tbody tr th:only-of-type {\n",
              "        vertical-align: middle;\n",
              "    }\n",
              "\n",
              "    .dataframe tbody tr th {\n",
              "        vertical-align: top;\n",
              "    }\n",
              "\n",
              "    .dataframe thead th {\n",
              "        text-align: right;\n",
              "    }\n",
              "</style>\n",
              "<table border=\"1\" class=\"dataframe\">\n",
              "  <thead>\n",
              "    <tr style=\"text-align: right;\">\n",
              "      <th></th>\n",
              "      <th>Univ</th>\n",
              "      <th>SAT</th>\n",
              "      <th>Top10</th>\n",
              "      <th>Accept</th>\n",
              "      <th>SFRatio</th>\n",
              "      <th>Expenses</th>\n",
              "      <th>GradRate</th>\n",
              "    </tr>\n",
              "  </thead>\n",
              "  <tbody>\n",
              "    <tr>\n",
              "      <th>0</th>\n",
              "      <td>Brown</td>\n",
              "      <td>1310</td>\n",
              "      <td>89</td>\n",
              "      <td>22</td>\n",
              "      <td>13</td>\n",
              "      <td>22704</td>\n",
              "      <td>94</td>\n",
              "    </tr>\n",
              "    <tr>\n",
              "      <th>1</th>\n",
              "      <td>CalTech</td>\n",
              "      <td>1415</td>\n",
              "      <td>100</td>\n",
              "      <td>25</td>\n",
              "      <td>6</td>\n",
              "      <td>63575</td>\n",
              "      <td>81</td>\n",
              "    </tr>\n",
              "    <tr>\n",
              "      <th>2</th>\n",
              "      <td>CMU</td>\n",
              "      <td>1260</td>\n",
              "      <td>62</td>\n",
              "      <td>59</td>\n",
              "      <td>9</td>\n",
              "      <td>25026</td>\n",
              "      <td>72</td>\n",
              "    </tr>\n",
              "    <tr>\n",
              "      <th>3</th>\n",
              "      <td>Columbia</td>\n",
              "      <td>1310</td>\n",
              "      <td>76</td>\n",
              "      <td>24</td>\n",
              "      <td>12</td>\n",
              "      <td>31510</td>\n",
              "      <td>88</td>\n",
              "    </tr>\n",
              "    <tr>\n",
              "      <th>4</th>\n",
              "      <td>Cornell</td>\n",
              "      <td>1280</td>\n",
              "      <td>83</td>\n",
              "      <td>33</td>\n",
              "      <td>13</td>\n",
              "      <td>21864</td>\n",
              "      <td>90</td>\n",
              "    </tr>\n",
              "    <tr>\n",
              "      <th>5</th>\n",
              "      <td>Dartmouth</td>\n",
              "      <td>1340</td>\n",
              "      <td>89</td>\n",
              "      <td>23</td>\n",
              "      <td>10</td>\n",
              "      <td>32162</td>\n",
              "      <td>95</td>\n",
              "    </tr>\n",
              "    <tr>\n",
              "      <th>6</th>\n",
              "      <td>Duke</td>\n",
              "      <td>1315</td>\n",
              "      <td>90</td>\n",
              "      <td>30</td>\n",
              "      <td>12</td>\n",
              "      <td>31585</td>\n",
              "      <td>95</td>\n",
              "    </tr>\n",
              "    <tr>\n",
              "      <th>7</th>\n",
              "      <td>Georgetown</td>\n",
              "      <td>1255</td>\n",
              "      <td>74</td>\n",
              "      <td>24</td>\n",
              "      <td>12</td>\n",
              "      <td>20126</td>\n",
              "      <td>92</td>\n",
              "    </tr>\n",
              "    <tr>\n",
              "      <th>8</th>\n",
              "      <td>Harvard</td>\n",
              "      <td>1400</td>\n",
              "      <td>91</td>\n",
              "      <td>14</td>\n",
              "      <td>11</td>\n",
              "      <td>39525</td>\n",
              "      <td>97</td>\n",
              "    </tr>\n",
              "    <tr>\n",
              "      <th>9</th>\n",
              "      <td>JohnsHopkins</td>\n",
              "      <td>1305</td>\n",
              "      <td>75</td>\n",
              "      <td>44</td>\n",
              "      <td>7</td>\n",
              "      <td>58691</td>\n",
              "      <td>87</td>\n",
              "    </tr>\n",
              "    <tr>\n",
              "      <th>10</th>\n",
              "      <td>MIT</td>\n",
              "      <td>1380</td>\n",
              "      <td>94</td>\n",
              "      <td>30</td>\n",
              "      <td>10</td>\n",
              "      <td>34870</td>\n",
              "      <td>91</td>\n",
              "    </tr>\n",
              "    <tr>\n",
              "      <th>11</th>\n",
              "      <td>Northwestern</td>\n",
              "      <td>1260</td>\n",
              "      <td>85</td>\n",
              "      <td>39</td>\n",
              "      <td>11</td>\n",
              "      <td>28052</td>\n",
              "      <td>89</td>\n",
              "    </tr>\n",
              "    <tr>\n",
              "      <th>12</th>\n",
              "      <td>NotreDame</td>\n",
              "      <td>1255</td>\n",
              "      <td>81</td>\n",
              "      <td>42</td>\n",
              "      <td>13</td>\n",
              "      <td>15122</td>\n",
              "      <td>94</td>\n",
              "    </tr>\n",
              "    <tr>\n",
              "      <th>13</th>\n",
              "      <td>PennState</td>\n",
              "      <td>1081</td>\n",
              "      <td>38</td>\n",
              "      <td>54</td>\n",
              "      <td>18</td>\n",
              "      <td>10185</td>\n",
              "      <td>80</td>\n",
              "    </tr>\n",
              "    <tr>\n",
              "      <th>14</th>\n",
              "      <td>Princeton</td>\n",
              "      <td>1375</td>\n",
              "      <td>91</td>\n",
              "      <td>14</td>\n",
              "      <td>8</td>\n",
              "      <td>30220</td>\n",
              "      <td>95</td>\n",
              "    </tr>\n",
              "    <tr>\n",
              "      <th>15</th>\n",
              "      <td>Purdue</td>\n",
              "      <td>1005</td>\n",
              "      <td>28</td>\n",
              "      <td>90</td>\n",
              "      <td>19</td>\n",
              "      <td>9066</td>\n",
              "      <td>69</td>\n",
              "    </tr>\n",
              "    <tr>\n",
              "      <th>16</th>\n",
              "      <td>Stanford</td>\n",
              "      <td>1360</td>\n",
              "      <td>90</td>\n",
              "      <td>20</td>\n",
              "      <td>12</td>\n",
              "      <td>36450</td>\n",
              "      <td>93</td>\n",
              "    </tr>\n",
              "    <tr>\n",
              "      <th>17</th>\n",
              "      <td>TexasA&amp;M</td>\n",
              "      <td>1075</td>\n",
              "      <td>49</td>\n",
              "      <td>67</td>\n",
              "      <td>25</td>\n",
              "      <td>8704</td>\n",
              "      <td>67</td>\n",
              "    </tr>\n",
              "    <tr>\n",
              "      <th>18</th>\n",
              "      <td>UCBerkeley</td>\n",
              "      <td>1240</td>\n",
              "      <td>95</td>\n",
              "      <td>40</td>\n",
              "      <td>17</td>\n",
              "      <td>15140</td>\n",
              "      <td>78</td>\n",
              "    </tr>\n",
              "    <tr>\n",
              "      <th>19</th>\n",
              "      <td>UChicago</td>\n",
              "      <td>1290</td>\n",
              "      <td>75</td>\n",
              "      <td>50</td>\n",
              "      <td>13</td>\n",
              "      <td>38380</td>\n",
              "      <td>87</td>\n",
              "    </tr>\n",
              "    <tr>\n",
              "      <th>20</th>\n",
              "      <td>UMichigan</td>\n",
              "      <td>1180</td>\n",
              "      <td>65</td>\n",
              "      <td>68</td>\n",
              "      <td>16</td>\n",
              "      <td>15470</td>\n",
              "      <td>85</td>\n",
              "    </tr>\n",
              "    <tr>\n",
              "      <th>21</th>\n",
              "      <td>UPenn</td>\n",
              "      <td>1285</td>\n",
              "      <td>80</td>\n",
              "      <td>36</td>\n",
              "      <td>11</td>\n",
              "      <td>27553</td>\n",
              "      <td>90</td>\n",
              "    </tr>\n",
              "    <tr>\n",
              "      <th>22</th>\n",
              "      <td>UVA</td>\n",
              "      <td>1225</td>\n",
              "      <td>77</td>\n",
              "      <td>44</td>\n",
              "      <td>14</td>\n",
              "      <td>13349</td>\n",
              "      <td>92</td>\n",
              "    </tr>\n",
              "    <tr>\n",
              "      <th>23</th>\n",
              "      <td>UWisconsin</td>\n",
              "      <td>1085</td>\n",
              "      <td>40</td>\n",
              "      <td>69</td>\n",
              "      <td>15</td>\n",
              "      <td>11857</td>\n",
              "      <td>71</td>\n",
              "    </tr>\n",
              "    <tr>\n",
              "      <th>24</th>\n",
              "      <td>Yale</td>\n",
              "      <td>1375</td>\n",
              "      <td>95</td>\n",
              "      <td>19</td>\n",
              "      <td>11</td>\n",
              "      <td>43514</td>\n",
              "      <td>96</td>\n",
              "    </tr>\n",
              "  </tbody>\n",
              "</table>\n",
              "</div>"
            ],
            "text/plain": [
              "            Univ   SAT  Top10  Accept  SFRatio  Expenses  GradRate\n",
              "0          Brown  1310     89      22       13     22704        94\n",
              "1        CalTech  1415    100      25        6     63575        81\n",
              "2            CMU  1260     62      59        9     25026        72\n",
              "3       Columbia  1310     76      24       12     31510        88\n",
              "4        Cornell  1280     83      33       13     21864        90\n",
              "5      Dartmouth  1340     89      23       10     32162        95\n",
              "6           Duke  1315     90      30       12     31585        95\n",
              "7     Georgetown  1255     74      24       12     20126        92\n",
              "8        Harvard  1400     91      14       11     39525        97\n",
              "9   JohnsHopkins  1305     75      44        7     58691        87\n",
              "10           MIT  1380     94      30       10     34870        91\n",
              "11  Northwestern  1260     85      39       11     28052        89\n",
              "12     NotreDame  1255     81      42       13     15122        94\n",
              "13     PennState  1081     38      54       18     10185        80\n",
              "14     Princeton  1375     91      14        8     30220        95\n",
              "15        Purdue  1005     28      90       19      9066        69\n",
              "16      Stanford  1360     90      20       12     36450        93\n",
              "17      TexasA&M  1075     49      67       25      8704        67\n",
              "18    UCBerkeley  1240     95      40       17     15140        78\n",
              "19      UChicago  1290     75      50       13     38380        87\n",
              "20     UMichigan  1180     65      68       16     15470        85\n",
              "21         UPenn  1285     80      36       11     27553        90\n",
              "22           UVA  1225     77      44       14     13349        92\n",
              "23    UWisconsin  1085     40      69       15     11857        71\n",
              "24          Yale  1375     95      19       11     43514        96"
            ]
          },
          "execution_count": 20,
          "metadata": {},
          "output_type": "execute_result"
        }
      ],
      "source": [
        "Univ"
      ]
    },
    {
      "cell_type": "markdown",
      "metadata": {
        "heading_collapsed": true,
        "id": "wd_il8VXPQ3v"
      },
      "source": [
        "# Hierarchical "
      ]
    },
    {
      "cell_type": "code",
      "execution_count": null,
      "metadata": {
        "ExecuteTime": {
          "end_time": "2021-09-18T06:26:17.863971Z",
          "start_time": "2021-09-18T06:26:17.852686Z"
        },
        "hidden": true,
        "id": "hWei4PaTPQ3v"
      },
      "outputs": [],
      "source": [
        "# Normalization function \n",
        "def norm_func(i):\n",
        "    x = (i-i.min())/(i.max()-i.min())\n",
        "    return (x)"
      ]
    },
    {
      "cell_type": "code",
      "execution_count": null,
      "metadata": {
        "ExecuteTime": {
          "end_time": "2021-09-18T06:26:26.449518Z",
          "start_time": "2021-09-18T06:26:26.179971Z"
        },
        "hidden": true,
        "id": "i0QMwFAqPQ3w"
      },
      "outputs": [],
      "source": [
        "# Normalized data frame (considering the numerical part of data)\n",
        "df_norm = norm_func(Univ.iloc[:,1:])"
      ]
    },
    {
      "cell_type": "code",
      "execution_count": null,
      "metadata": {
        "ExecuteTime": {
          "end_time": "2021-09-18T06:26:26.940903Z",
          "start_time": "2021-09-18T06:26:26.907945Z"
        },
        "hidden": true,
        "id": "0UdzrUdKPQ3w",
        "outputId": "58722731-29f4-4e1c-fbbc-00f9418586c7"
      },
      "outputs": [
        {
          "data": {
            "text/html": [
              "<div>\n",
              "<style scoped>\n",
              "    .dataframe tbody tr th:only-of-type {\n",
              "        vertical-align: middle;\n",
              "    }\n",
              "\n",
              "    .dataframe tbody tr th {\n",
              "        vertical-align: top;\n",
              "    }\n",
              "\n",
              "    .dataframe thead th {\n",
              "        text-align: right;\n",
              "    }\n",
              "</style>\n",
              "<table border=\"1\" class=\"dataframe\">\n",
              "  <thead>\n",
              "    <tr style=\"text-align: right;\">\n",
              "      <th></th>\n",
              "      <th>SAT</th>\n",
              "      <th>Top10</th>\n",
              "      <th>Accept</th>\n",
              "      <th>SFRatio</th>\n",
              "      <th>Expenses</th>\n",
              "      <th>GradRate</th>\n",
              "    </tr>\n",
              "  </thead>\n",
              "  <tbody>\n",
              "    <tr>\n",
              "      <th>0</th>\n",
              "      <td>0.743902</td>\n",
              "      <td>0.847222</td>\n",
              "      <td>0.105263</td>\n",
              "      <td>0.368421</td>\n",
              "      <td>0.255144</td>\n",
              "      <td>0.900000</td>\n",
              "    </tr>\n",
              "    <tr>\n",
              "      <th>1</th>\n",
              "      <td>1.000000</td>\n",
              "      <td>1.000000</td>\n",
              "      <td>0.144737</td>\n",
              "      <td>0.000000</td>\n",
              "      <td>1.000000</td>\n",
              "      <td>0.466667</td>\n",
              "    </tr>\n",
              "    <tr>\n",
              "      <th>2</th>\n",
              "      <td>0.621951</td>\n",
              "      <td>0.472222</td>\n",
              "      <td>0.592105</td>\n",
              "      <td>0.157895</td>\n",
              "      <td>0.297461</td>\n",
              "      <td>0.166667</td>\n",
              "    </tr>\n",
              "    <tr>\n",
              "      <th>3</th>\n",
              "      <td>0.743902</td>\n",
              "      <td>0.666667</td>\n",
              "      <td>0.131579</td>\n",
              "      <td>0.315789</td>\n",
              "      <td>0.415629</td>\n",
              "      <td>0.700000</td>\n",
              "    </tr>\n",
              "    <tr>\n",
              "      <th>4</th>\n",
              "      <td>0.670732</td>\n",
              "      <td>0.763889</td>\n",
              "      <td>0.250000</td>\n",
              "      <td>0.368421</td>\n",
              "      <td>0.239835</td>\n",
              "      <td>0.766667</td>\n",
              "    </tr>\n",
              "    <tr>\n",
              "      <th>5</th>\n",
              "      <td>0.817073</td>\n",
              "      <td>0.847222</td>\n",
              "      <td>0.118421</td>\n",
              "      <td>0.210526</td>\n",
              "      <td>0.427512</td>\n",
              "      <td>0.933333</td>\n",
              "    </tr>\n",
              "    <tr>\n",
              "      <th>6</th>\n",
              "      <td>0.756098</td>\n",
              "      <td>0.861111</td>\n",
              "      <td>0.210526</td>\n",
              "      <td>0.315789</td>\n",
              "      <td>0.416996</td>\n",
              "      <td>0.933333</td>\n",
              "    </tr>\n",
              "    <tr>\n",
              "      <th>7</th>\n",
              "      <td>0.609756</td>\n",
              "      <td>0.638889</td>\n",
              "      <td>0.131579</td>\n",
              "      <td>0.315789</td>\n",
              "      <td>0.208161</td>\n",
              "      <td>0.833333</td>\n",
              "    </tr>\n",
              "    <tr>\n",
              "      <th>8</th>\n",
              "      <td>0.963415</td>\n",
              "      <td>0.875000</td>\n",
              "      <td>0.000000</td>\n",
              "      <td>0.263158</td>\n",
              "      <td>0.561699</td>\n",
              "      <td>1.000000</td>\n",
              "    </tr>\n",
              "    <tr>\n",
              "      <th>9</th>\n",
              "      <td>0.731707</td>\n",
              "      <td>0.652778</td>\n",
              "      <td>0.394737</td>\n",
              "      <td>0.052632</td>\n",
              "      <td>0.910991</td>\n",
              "      <td>0.666667</td>\n",
              "    </tr>\n",
              "    <tr>\n",
              "      <th>10</th>\n",
              "      <td>0.914634</td>\n",
              "      <td>0.916667</td>\n",
              "      <td>0.210526</td>\n",
              "      <td>0.210526</td>\n",
              "      <td>0.476864</td>\n",
              "      <td>0.800000</td>\n",
              "    </tr>\n",
              "    <tr>\n",
              "      <th>11</th>\n",
              "      <td>0.621951</td>\n",
              "      <td>0.791667</td>\n",
              "      <td>0.328947</td>\n",
              "      <td>0.263158</td>\n",
              "      <td>0.352609</td>\n",
              "      <td>0.733333</td>\n",
              "    </tr>\n",
              "    <tr>\n",
              "      <th>12</th>\n",
              "      <td>0.609756</td>\n",
              "      <td>0.736111</td>\n",
              "      <td>0.368421</td>\n",
              "      <td>0.368421</td>\n",
              "      <td>0.116965</td>\n",
              "      <td>0.900000</td>\n",
              "    </tr>\n",
              "    <tr>\n",
              "      <th>13</th>\n",
              "      <td>0.185366</td>\n",
              "      <td>0.138889</td>\n",
              "      <td>0.526316</td>\n",
              "      <td>0.631579</td>\n",
              "      <td>0.026991</td>\n",
              "      <td>0.433333</td>\n",
              "    </tr>\n",
              "    <tr>\n",
              "      <th>14</th>\n",
              "      <td>0.902439</td>\n",
              "      <td>0.875000</td>\n",
              "      <td>0.000000</td>\n",
              "      <td>0.105263</td>\n",
              "      <td>0.392120</td>\n",
              "      <td>0.933333</td>\n",
              "    </tr>\n",
              "    <tr>\n",
              "      <th>15</th>\n",
              "      <td>0.000000</td>\n",
              "      <td>0.000000</td>\n",
              "      <td>1.000000</td>\n",
              "      <td>0.684211</td>\n",
              "      <td>0.006597</td>\n",
              "      <td>0.066667</td>\n",
              "    </tr>\n",
              "    <tr>\n",
              "      <th>16</th>\n",
              "      <td>0.865854</td>\n",
              "      <td>0.861111</td>\n",
              "      <td>0.078947</td>\n",
              "      <td>0.315789</td>\n",
              "      <td>0.505659</td>\n",
              "      <td>0.866667</td>\n",
              "    </tr>\n",
              "    <tr>\n",
              "      <th>17</th>\n",
              "      <td>0.170732</td>\n",
              "      <td>0.291667</td>\n",
              "      <td>0.697368</td>\n",
              "      <td>1.000000</td>\n",
              "      <td>0.000000</td>\n",
              "      <td>0.000000</td>\n",
              "    </tr>\n",
              "    <tr>\n",
              "      <th>18</th>\n",
              "      <td>0.573171</td>\n",
              "      <td>0.930556</td>\n",
              "      <td>0.342105</td>\n",
              "      <td>0.578947</td>\n",
              "      <td>0.117293</td>\n",
              "      <td>0.366667</td>\n",
              "    </tr>\n",
              "    <tr>\n",
              "      <th>19</th>\n",
              "      <td>0.695122</td>\n",
              "      <td>0.652778</td>\n",
              "      <td>0.473684</td>\n",
              "      <td>0.368421</td>\n",
              "      <td>0.540832</td>\n",
              "      <td>0.666667</td>\n",
              "    </tr>\n",
              "    <tr>\n",
              "      <th>20</th>\n",
              "      <td>0.426829</td>\n",
              "      <td>0.513889</td>\n",
              "      <td>0.710526</td>\n",
              "      <td>0.526316</td>\n",
              "      <td>0.123307</td>\n",
              "      <td>0.600000</td>\n",
              "    </tr>\n",
              "    <tr>\n",
              "      <th>21</th>\n",
              "      <td>0.682927</td>\n",
              "      <td>0.722222</td>\n",
              "      <td>0.289474</td>\n",
              "      <td>0.263158</td>\n",
              "      <td>0.343515</td>\n",
              "      <td>0.766667</td>\n",
              "    </tr>\n",
              "    <tr>\n",
              "      <th>22</th>\n",
              "      <td>0.536585</td>\n",
              "      <td>0.680556</td>\n",
              "      <td>0.394737</td>\n",
              "      <td>0.421053</td>\n",
              "      <td>0.084653</td>\n",
              "      <td>0.833333</td>\n",
              "    </tr>\n",
              "    <tr>\n",
              "      <th>23</th>\n",
              "      <td>0.195122</td>\n",
              "      <td>0.166667</td>\n",
              "      <td>0.723684</td>\n",
              "      <td>0.473684</td>\n",
              "      <td>0.057462</td>\n",
              "      <td>0.133333</td>\n",
              "    </tr>\n",
              "    <tr>\n",
              "      <th>24</th>\n",
              "      <td>0.902439</td>\n",
              "      <td>0.930556</td>\n",
              "      <td>0.065789</td>\n",
              "      <td>0.263158</td>\n",
              "      <td>0.634397</td>\n",
              "      <td>0.966667</td>\n",
              "    </tr>\n",
              "  </tbody>\n",
              "</table>\n",
              "</div>"
            ],
            "text/plain": [
              "         SAT     Top10    Accept   SFRatio  Expenses  GradRate\n",
              "0   0.743902  0.847222  0.105263  0.368421  0.255144  0.900000\n",
              "1   1.000000  1.000000  0.144737  0.000000  1.000000  0.466667\n",
              "2   0.621951  0.472222  0.592105  0.157895  0.297461  0.166667\n",
              "3   0.743902  0.666667  0.131579  0.315789  0.415629  0.700000\n",
              "4   0.670732  0.763889  0.250000  0.368421  0.239835  0.766667\n",
              "5   0.817073  0.847222  0.118421  0.210526  0.427512  0.933333\n",
              "6   0.756098  0.861111  0.210526  0.315789  0.416996  0.933333\n",
              "7   0.609756  0.638889  0.131579  0.315789  0.208161  0.833333\n",
              "8   0.963415  0.875000  0.000000  0.263158  0.561699  1.000000\n",
              "9   0.731707  0.652778  0.394737  0.052632  0.910991  0.666667\n",
              "10  0.914634  0.916667  0.210526  0.210526  0.476864  0.800000\n",
              "11  0.621951  0.791667  0.328947  0.263158  0.352609  0.733333\n",
              "12  0.609756  0.736111  0.368421  0.368421  0.116965  0.900000\n",
              "13  0.185366  0.138889  0.526316  0.631579  0.026991  0.433333\n",
              "14  0.902439  0.875000  0.000000  0.105263  0.392120  0.933333\n",
              "15  0.000000  0.000000  1.000000  0.684211  0.006597  0.066667\n",
              "16  0.865854  0.861111  0.078947  0.315789  0.505659  0.866667\n",
              "17  0.170732  0.291667  0.697368  1.000000  0.000000  0.000000\n",
              "18  0.573171  0.930556  0.342105  0.578947  0.117293  0.366667\n",
              "19  0.695122  0.652778  0.473684  0.368421  0.540832  0.666667\n",
              "20  0.426829  0.513889  0.710526  0.526316  0.123307  0.600000\n",
              "21  0.682927  0.722222  0.289474  0.263158  0.343515  0.766667\n",
              "22  0.536585  0.680556  0.394737  0.421053  0.084653  0.833333\n",
              "23  0.195122  0.166667  0.723684  0.473684  0.057462  0.133333\n",
              "24  0.902439  0.930556  0.065789  0.263158  0.634397  0.966667"
            ]
          },
          "execution_count": 6,
          "metadata": {},
          "output_type": "execute_result"
        }
      ],
      "source": [
        "df_norm.iloc[:,:]"
      ]
    },
    {
      "cell_type": "code",
      "execution_count": null,
      "metadata": {
        "ExecuteTime": {
          "end_time": "2021-08-28T09:49:46.093406Z",
          "start_time": "2021-08-28T09:49:45.548580Z"
        },
        "hidden": true,
        "id": "DqbUcNO_PQ3x",
        "outputId": "b7aceae7-6a6b-401a-d1d2-0c3c4b33ef23"
      },
      "outputs": [
        {
          "data": {
            "image/png": "[encoded data removed]",
            "text/plain": [
              "<Figure size 432x288 with 1 Axes>"
            ]
          },
          "metadata": {
            "needs_background": "light"
          },
          "output_type": "display_data"
        }
      ],
      "source": [
        "# create dendrogram\n",
        "dendrogram = sch.dendrogram(sch.linkage(df_norm, method='single'))\n"
      ]
    },
    {
      "cell_type": "code",
      "execution_count": null,
      "metadata": {
        "ExecuteTime": {
          "end_time": "2021-08-28T09:50:40.449404Z",
          "start_time": "2021-08-28T09:50:40.337769Z"
        },
        "hidden": true,
        "id": "ykDl2bpfPQ3y"
      },
      "outputs": [],
      "source": [
        "??AgglomerativeClustering\n"
      ]
    },
    {
      "cell_type": "code",
      "execution_count": null,
      "metadata": {
        "ExecuteTime": {
          "end_time": "2021-08-28T09:51:05.169707Z",
          "start_time": "2021-08-28T09:51:05.160692Z"
        },
        "hidden": true,
        "id": "7MJVxRFmPQ3z"
      },
      "outputs": [],
      "source": [
        "#\"euclidean\", \"l1\", \"l2\", \"manhattan\", \"cosine\", or \"precomputed\"."
      ]
    },
    {
      "cell_type": "code",
      "execution_count": null,
      "metadata": {
        "ExecuteTime": {
          "end_time": "2021-09-18T06:36:13.566141Z",
          "start_time": "2021-09-18T06:36:13.556354Z"
        },
        "hidden": true,
        "id": "LTColZaRPQ30"
      },
      "outputs": [],
      "source": [
        "# create clusters\n",
        "hc = AgglomerativeClustering(n_clusters=5, affinity = 'euclidean', linkage = 'single')\n"
      ]
    },
    {
      "cell_type": "code",
      "execution_count": null,
      "metadata": {
        "ExecuteTime": {
          "end_time": "2021-09-18T06:36:13.928540Z",
          "start_time": "2021-09-18T06:36:13.898738Z"
        },
        "hidden": true,
        "id": "MWA2Vw0-PQ30",
        "outputId": "8e3c4748-e50f-421c-930b-9787007ce4ac"
      },
      "outputs": [
        {
          "data": {
            "text/plain": [
              "array([0, 3, 4, 0, 0, 0, 0, 0, 0, 0, 0, 0, 0, 1, 0, 1, 0, 2, 0, 0, 0, 0,\n",
              "       0, 1, 0])"
            ]
          },
          "execution_count": 26,
          "metadata": {},
          "output_type": "execute_result"
        }
      ],
      "source": [
        "hc.fit_predict(df_norm)\n"
      ]
    },
    {
      "cell_type": "code",
      "execution_count": null,
      "metadata": {
        "ExecuteTime": {
          "end_time": "2021-09-18T06:36:15.141144Z",
          "start_time": "2021-09-18T06:36:15.131448Z"
        },
        "hidden": true,
        "id": "y2JJNL_ePQ31"
      },
      "outputs": [],
      "source": [
        "# save clusters for chart\n",
        "y_hc = hc.fit_predict(df_norm)\n",
        "#Clusters=pd.DataFrame(y_hc,columns=['Clusters'])"
      ]
    },
    {
      "cell_type": "code",
      "execution_count": null,
      "metadata": {
        "ExecuteTime": {
          "end_time": "2021-09-18T06:36:15.711443Z",
          "start_time": "2021-09-18T06:36:15.707042Z"
        },
        "hidden": true,
        "id": "aWQVPehrPQ32"
      },
      "outputs": [],
      "source": [
        "df_norm['h_clusterid'] = y_hc "
      ]
    },
    {
      "cell_type": "code",
      "execution_count": null,
      "metadata": {
        "ExecuteTime": {
          "end_time": "2021-09-18T06:36:16.288320Z",
          "start_time": "2021-09-18T06:36:16.265238Z"
        },
        "hidden": true,
        "scrolled": true,
        "id": "Mrza-uYHPQ33",
        "outputId": "9d668c0d-5ca0-400b-e5a8-81fbdfb37621"
      },
      "outputs": [
        {
          "data": {
            "text/html": [
              "<div>\n",
              "<style scoped>\n",
              "    .dataframe tbody tr th:only-of-type {\n",
              "        vertical-align: middle;\n",
              "    }\n",
              "\n",
              "    .dataframe tbody tr th {\n",
              "        vertical-align: top;\n",
              "    }\n",
              "\n",
              "    .dataframe thead th {\n",
              "        text-align: right;\n",
              "    }\n",
              "</style>\n",
              "<table border=\"1\" class=\"dataframe\">\n",
              "  <thead>\n",
              "    <tr style=\"text-align: right;\">\n",
              "      <th></th>\n",
              "      <th>SAT</th>\n",
              "      <th>Top10</th>\n",
              "      <th>Accept</th>\n",
              "      <th>SFRatio</th>\n",
              "      <th>Expenses</th>\n",
              "      <th>GradRate</th>\n",
              "      <th>h_clusterid</th>\n",
              "    </tr>\n",
              "  </thead>\n",
              "  <tbody>\n",
              "    <tr>\n",
              "      <th>0</th>\n",
              "      <td>0.743902</td>\n",
              "      <td>0.847222</td>\n",
              "      <td>0.105263</td>\n",
              "      <td>0.368421</td>\n",
              "      <td>0.255144</td>\n",
              "      <td>0.900000</td>\n",
              "      <td>0</td>\n",
              "    </tr>\n",
              "    <tr>\n",
              "      <th>1</th>\n",
              "      <td>1.000000</td>\n",
              "      <td>1.000000</td>\n",
              "      <td>0.144737</td>\n",
              "      <td>0.000000</td>\n",
              "      <td>1.000000</td>\n",
              "      <td>0.466667</td>\n",
              "      <td>3</td>\n",
              "    </tr>\n",
              "    <tr>\n",
              "      <th>2</th>\n",
              "      <td>0.621951</td>\n",
              "      <td>0.472222</td>\n",
              "      <td>0.592105</td>\n",
              "      <td>0.157895</td>\n",
              "      <td>0.297461</td>\n",
              "      <td>0.166667</td>\n",
              "      <td>4</td>\n",
              "    </tr>\n",
              "    <tr>\n",
              "      <th>3</th>\n",
              "      <td>0.743902</td>\n",
              "      <td>0.666667</td>\n",
              "      <td>0.131579</td>\n",
              "      <td>0.315789</td>\n",
              "      <td>0.415629</td>\n",
              "      <td>0.700000</td>\n",
              "      <td>0</td>\n",
              "    </tr>\n",
              "    <tr>\n",
              "      <th>4</th>\n",
              "      <td>0.670732</td>\n",
              "      <td>0.763889</td>\n",
              "      <td>0.250000</td>\n",
              "      <td>0.368421</td>\n",
              "      <td>0.239835</td>\n",
              "      <td>0.766667</td>\n",
              "      <td>0</td>\n",
              "    </tr>\n",
              "    <tr>\n",
              "      <th>5</th>\n",
              "      <td>0.817073</td>\n",
              "      <td>0.847222</td>\n",
              "      <td>0.118421</td>\n",
              "      <td>0.210526</td>\n",
              "      <td>0.427512</td>\n",
              "      <td>0.933333</td>\n",
              "      <td>0</td>\n",
              "    </tr>\n",
              "    <tr>\n",
              "      <th>6</th>\n",
              "      <td>0.756098</td>\n",
              "      <td>0.861111</td>\n",
              "      <td>0.210526</td>\n",
              "      <td>0.315789</td>\n",
              "      <td>0.416996</td>\n",
              "      <td>0.933333</td>\n",
              "      <td>0</td>\n",
              "    </tr>\n",
              "    <tr>\n",
              "      <th>7</th>\n",
              "      <td>0.609756</td>\n",
              "      <td>0.638889</td>\n",
              "      <td>0.131579</td>\n",
              "      <td>0.315789</td>\n",
              "      <td>0.208161</td>\n",
              "      <td>0.833333</td>\n",
              "      <td>0</td>\n",
              "    </tr>\n",
              "    <tr>\n",
              "      <th>8</th>\n",
              "      <td>0.963415</td>\n",
              "      <td>0.875000</td>\n",
              "      <td>0.000000</td>\n",
              "      <td>0.263158</td>\n",
              "      <td>0.561699</td>\n",
              "      <td>1.000000</td>\n",
              "      <td>0</td>\n",
              "    </tr>\n",
              "    <tr>\n",
              "      <th>9</th>\n",
              "      <td>0.731707</td>\n",
              "      <td>0.652778</td>\n",
              "      <td>0.394737</td>\n",
              "      <td>0.052632</td>\n",
              "      <td>0.910991</td>\n",
              "      <td>0.666667</td>\n",
              "      <td>0</td>\n",
              "    </tr>\n",
              "    <tr>\n",
              "      <th>10</th>\n",
              "      <td>0.914634</td>\n",
              "      <td>0.916667</td>\n",
              "      <td>0.210526</td>\n",
              "      <td>0.210526</td>\n",
              "      <td>0.476864</td>\n",
              "      <td>0.800000</td>\n",
              "      <td>0</td>\n",
              "    </tr>\n",
              "    <tr>\n",
              "      <th>11</th>\n",
              "      <td>0.621951</td>\n",
              "      <td>0.791667</td>\n",
              "      <td>0.328947</td>\n",
              "      <td>0.263158</td>\n",
              "      <td>0.352609</td>\n",
              "      <td>0.733333</td>\n",
              "      <td>0</td>\n",
              "    </tr>\n",
              "    <tr>\n",
              "      <th>12</th>\n",
              "      <td>0.609756</td>\n",
              "      <td>0.736111</td>\n",
              "      <td>0.368421</td>\n",
              "      <td>0.368421</td>\n",
              "      <td>0.116965</td>\n",
              "      <td>0.900000</td>\n",
              "      <td>0</td>\n",
              "    </tr>\n",
              "    <tr>\n",
              "      <th>13</th>\n",
              "      <td>0.185366</td>\n",
              "      <td>0.138889</td>\n",
              "      <td>0.526316</td>\n",
              "      <td>0.631579</td>\n",
              "      <td>0.026991</td>\n",
              "      <td>0.433333</td>\n",
              "      <td>1</td>\n",
              "    </tr>\n",
              "    <tr>\n",
              "      <th>14</th>\n",
              "      <td>0.902439</td>\n",
              "      <td>0.875000</td>\n",
              "      <td>0.000000</td>\n",
              "      <td>0.105263</td>\n",
              "      <td>0.392120</td>\n",
              "      <td>0.933333</td>\n",
              "      <td>0</td>\n",
              "    </tr>\n",
              "    <tr>\n",
              "      <th>15</th>\n",
              "      <td>0.000000</td>\n",
              "      <td>0.000000</td>\n",
              "      <td>1.000000</td>\n",
              "      <td>0.684211</td>\n",
              "      <td>0.006597</td>\n",
              "      <td>0.066667</td>\n",
              "      <td>1</td>\n",
              "    </tr>\n",
              "    <tr>\n",
              "      <th>16</th>\n",
              "      <td>0.865854</td>\n",
              "      <td>0.861111</td>\n",
              "      <td>0.078947</td>\n",
              "      <td>0.315789</td>\n",
              "      <td>0.505659</td>\n",
              "      <td>0.866667</td>\n",
              "      <td>0</td>\n",
              "    </tr>\n",
              "    <tr>\n",
              "      <th>17</th>\n",
              "      <td>0.170732</td>\n",
              "      <td>0.291667</td>\n",
              "      <td>0.697368</td>\n",
              "      <td>1.000000</td>\n",
              "      <td>0.000000</td>\n",
              "      <td>0.000000</td>\n",
              "      <td>2</td>\n",
              "    </tr>\n",
              "    <tr>\n",
              "      <th>18</th>\n",
              "      <td>0.573171</td>\n",
              "      <td>0.930556</td>\n",
              "      <td>0.342105</td>\n",
              "      <td>0.578947</td>\n",
              "      <td>0.117293</td>\n",
              "      <td>0.366667</td>\n",
              "      <td>0</td>\n",
              "    </tr>\n",
              "    <tr>\n",
              "      <th>19</th>\n",
              "      <td>0.695122</td>\n",
              "      <td>0.652778</td>\n",
              "      <td>0.473684</td>\n",
              "      <td>0.368421</td>\n",
              "      <td>0.540832</td>\n",
              "      <td>0.666667</td>\n",
              "      <td>0</td>\n",
              "    </tr>\n",
              "    <tr>\n",
              "      <th>20</th>\n",
              "      <td>0.426829</td>\n",
              "      <td>0.513889</td>\n",
              "      <td>0.710526</td>\n",
              "      <td>0.526316</td>\n",
              "      <td>0.123307</td>\n",
              "      <td>0.600000</td>\n",
              "      <td>0</td>\n",
              "    </tr>\n",
              "    <tr>\n",
              "      <th>21</th>\n",
              "      <td>0.682927</td>\n",
              "      <td>0.722222</td>\n",
              "      <td>0.289474</td>\n",
              "      <td>0.263158</td>\n",
              "      <td>0.343515</td>\n",
              "      <td>0.766667</td>\n",
              "      <td>0</td>\n",
              "    </tr>\n",
              "    <tr>\n",
              "      <th>22</th>\n",
              "      <td>0.536585</td>\n",
              "      <td>0.680556</td>\n",
              "      <td>0.394737</td>\n",
              "      <td>0.421053</td>\n",
              "      <td>0.084653</td>\n",
              "      <td>0.833333</td>\n",
              "      <td>0</td>\n",
              "    </tr>\n",
              "    <tr>\n",
              "      <th>23</th>\n",
              "      <td>0.195122</td>\n",
              "      <td>0.166667</td>\n",
              "      <td>0.723684</td>\n",
              "      <td>0.473684</td>\n",
              "      <td>0.057462</td>\n",
              "      <td>0.133333</td>\n",
              "      <td>1</td>\n",
              "    </tr>\n",
              "    <tr>\n",
              "      <th>24</th>\n",
              "      <td>0.902439</td>\n",
              "      <td>0.930556</td>\n",
              "      <td>0.065789</td>\n",
              "      <td>0.263158</td>\n",
              "      <td>0.634397</td>\n",
              "      <td>0.966667</td>\n",
              "      <td>0</td>\n",
              "    </tr>\n",
              "  </tbody>\n",
              "</table>\n",
              "</div>"
            ],
            "text/plain": [
              "         SAT     Top10    Accept   SFRatio  Expenses  GradRate  h_clusterid\n",
              "0   0.743902  0.847222  0.105263  0.368421  0.255144  0.900000            0\n",
              "1   1.000000  1.000000  0.144737  0.000000  1.000000  0.466667            3\n",
              "2   0.621951  0.472222  0.592105  0.157895  0.297461  0.166667            4\n",
              "3   0.743902  0.666667  0.131579  0.315789  0.415629  0.700000            0\n",
              "4   0.670732  0.763889  0.250000  0.368421  0.239835  0.766667            0\n",
              "5   0.817073  0.847222  0.118421  0.210526  0.427512  0.933333            0\n",
              "6   0.756098  0.861111  0.210526  0.315789  0.416996  0.933333            0\n",
              "7   0.609756  0.638889  0.131579  0.315789  0.208161  0.833333            0\n",
              "8   0.963415  0.875000  0.000000  0.263158  0.561699  1.000000            0\n",
              "9   0.731707  0.652778  0.394737  0.052632  0.910991  0.666667            0\n",
              "10  0.914634  0.916667  0.210526  0.210526  0.476864  0.800000            0\n",
              "11  0.621951  0.791667  0.328947  0.263158  0.352609  0.733333            0\n",
              "12  0.609756  0.736111  0.368421  0.368421  0.116965  0.900000            0\n",
              "13  0.185366  0.138889  0.526316  0.631579  0.026991  0.433333            1\n",
              "14  0.902439  0.875000  0.000000  0.105263  0.392120  0.933333            0\n",
              "15  0.000000  0.000000  1.000000  0.684211  0.006597  0.066667            1\n",
              "16  0.865854  0.861111  0.078947  0.315789  0.505659  0.866667            0\n",
              "17  0.170732  0.291667  0.697368  1.000000  0.000000  0.000000            2\n",
              "18  0.573171  0.930556  0.342105  0.578947  0.117293  0.366667            0\n",
              "19  0.695122  0.652778  0.473684  0.368421  0.540832  0.666667            0\n",
              "20  0.426829  0.513889  0.710526  0.526316  0.123307  0.600000            0\n",
              "21  0.682927  0.722222  0.289474  0.263158  0.343515  0.766667            0\n",
              "22  0.536585  0.680556  0.394737  0.421053  0.084653  0.833333            0\n",
              "23  0.195122  0.166667  0.723684  0.473684  0.057462  0.133333            1\n",
              "24  0.902439  0.930556  0.065789  0.263158  0.634397  0.966667            0"
            ]
          },
          "execution_count": 29,
          "metadata": {},
          "output_type": "execute_result"
        }
      ],
      "source": [
        "df_norm"
      ]
    },
    {
      "cell_type": "code",
      "execution_count": null,
      "metadata": {
        "ExecuteTime": {
          "end_time": "2021-09-18T06:36:16.759545Z",
          "start_time": "2021-09-18T06:36:16.745317Z"
        },
        "hidden": true,
        "id": "TPJtOpgQPQ34"
      },
      "outputs": [],
      "source": [
        "Univ['h_clusterid'] = y_hc "
      ]
    },
    {
      "cell_type": "code",
      "execution_count": null,
      "metadata": {
        "ExecuteTime": {
          "end_time": "2021-09-18T06:36:17.216623Z",
          "start_time": "2021-09-18T06:36:17.171418Z"
        },
        "hidden": true,
        "id": "EKIWZvC3PQ35",
        "outputId": "ef78a068-ea3e-4e82-ea0e-6ae8ce8b7386"
      },
      "outputs": [
        {
          "data": {
            "text/html": [
              "<div>\n",
              "<style scoped>\n",
              "    .dataframe tbody tr th:only-of-type {\n",
              "        vertical-align: middle;\n",
              "    }\n",
              "\n",
              "    .dataframe tbody tr th {\n",
              "        vertical-align: top;\n",
              "    }\n",
              "\n",
              "    .dataframe thead th {\n",
              "        text-align: right;\n",
              "    }\n",
              "</style>\n",
              "<table border=\"1\" class=\"dataframe\">\n",
              "  <thead>\n",
              "    <tr style=\"text-align: right;\">\n",
              "      <th></th>\n",
              "      <th>Univ</th>\n",
              "      <th>SAT</th>\n",
              "      <th>Top10</th>\n",
              "      <th>Accept</th>\n",
              "      <th>SFRatio</th>\n",
              "      <th>Expenses</th>\n",
              "      <th>GradRate</th>\n",
              "      <th>h_clusterid</th>\n",
              "      <th>labels</th>\n",
              "    </tr>\n",
              "  </thead>\n",
              "  <tbody>\n",
              "    <tr>\n",
              "      <th>0</th>\n",
              "      <td>Brown</td>\n",
              "      <td>1310</td>\n",
              "      <td>89</td>\n",
              "      <td>22</td>\n",
              "      <td>13</td>\n",
              "      <td>22704</td>\n",
              "      <td>94</td>\n",
              "      <td>0</td>\n",
              "      <td>1</td>\n",
              "    </tr>\n",
              "    <tr>\n",
              "      <th>1</th>\n",
              "      <td>CalTech</td>\n",
              "      <td>1415</td>\n",
              "      <td>100</td>\n",
              "      <td>25</td>\n",
              "      <td>6</td>\n",
              "      <td>63575</td>\n",
              "      <td>81</td>\n",
              "      <td>3</td>\n",
              "      <td>2</td>\n",
              "    </tr>\n",
              "    <tr>\n",
              "      <th>2</th>\n",
              "      <td>CMU</td>\n",
              "      <td>1260</td>\n",
              "      <td>62</td>\n",
              "      <td>59</td>\n",
              "      <td>9</td>\n",
              "      <td>25026</td>\n",
              "      <td>72</td>\n",
              "      <td>4</td>\n",
              "      <td>4</td>\n",
              "    </tr>\n",
              "    <tr>\n",
              "      <th>3</th>\n",
              "      <td>Columbia</td>\n",
              "      <td>1310</td>\n",
              "      <td>76</td>\n",
              "      <td>24</td>\n",
              "      <td>12</td>\n",
              "      <td>31510</td>\n",
              "      <td>88</td>\n",
              "      <td>0</td>\n",
              "      <td>1</td>\n",
              "    </tr>\n",
              "    <tr>\n",
              "      <th>4</th>\n",
              "      <td>Cornell</td>\n",
              "      <td>1280</td>\n",
              "      <td>83</td>\n",
              "      <td>33</td>\n",
              "      <td>13</td>\n",
              "      <td>21864</td>\n",
              "      <td>90</td>\n",
              "      <td>0</td>\n",
              "      <td>1</td>\n",
              "    </tr>\n",
              "    <tr>\n",
              "      <th>5</th>\n",
              "      <td>Dartmouth</td>\n",
              "      <td>1340</td>\n",
              "      <td>89</td>\n",
              "      <td>23</td>\n",
              "      <td>10</td>\n",
              "      <td>32162</td>\n",
              "      <td>95</td>\n",
              "      <td>0</td>\n",
              "      <td>1</td>\n",
              "    </tr>\n",
              "    <tr>\n",
              "      <th>6</th>\n",
              "      <td>Duke</td>\n",
              "      <td>1315</td>\n",
              "      <td>90</td>\n",
              "      <td>30</td>\n",
              "      <td>12</td>\n",
              "      <td>31585</td>\n",
              "      <td>95</td>\n",
              "      <td>0</td>\n",
              "      <td>1</td>\n",
              "    </tr>\n",
              "    <tr>\n",
              "      <th>7</th>\n",
              "      <td>Georgetown</td>\n",
              "      <td>1255</td>\n",
              "      <td>74</td>\n",
              "      <td>24</td>\n",
              "      <td>12</td>\n",
              "      <td>20126</td>\n",
              "      <td>92</td>\n",
              "      <td>0</td>\n",
              "      <td>1</td>\n",
              "    </tr>\n",
              "    <tr>\n",
              "      <th>8</th>\n",
              "      <td>Harvard</td>\n",
              "      <td>1400</td>\n",
              "      <td>91</td>\n",
              "      <td>14</td>\n",
              "      <td>11</td>\n",
              "      <td>39525</td>\n",
              "      <td>97</td>\n",
              "      <td>0</td>\n",
              "      <td>1</td>\n",
              "    </tr>\n",
              "    <tr>\n",
              "      <th>9</th>\n",
              "      <td>JohnsHopkins</td>\n",
              "      <td>1305</td>\n",
              "      <td>75</td>\n",
              "      <td>44</td>\n",
              "      <td>7</td>\n",
              "      <td>58691</td>\n",
              "      <td>87</td>\n",
              "      <td>0</td>\n",
              "      <td>1</td>\n",
              "    </tr>\n",
              "    <tr>\n",
              "      <th>10</th>\n",
              "      <td>MIT</td>\n",
              "      <td>1380</td>\n",
              "      <td>94</td>\n",
              "      <td>30</td>\n",
              "      <td>10</td>\n",
              "      <td>34870</td>\n",
              "      <td>91</td>\n",
              "      <td>0</td>\n",
              "      <td>1</td>\n",
              "    </tr>\n",
              "    <tr>\n",
              "      <th>11</th>\n",
              "      <td>Northwestern</td>\n",
              "      <td>1260</td>\n",
              "      <td>85</td>\n",
              "      <td>39</td>\n",
              "      <td>11</td>\n",
              "      <td>28052</td>\n",
              "      <td>89</td>\n",
              "      <td>0</td>\n",
              "      <td>1</td>\n",
              "    </tr>\n",
              "    <tr>\n",
              "      <th>12</th>\n",
              "      <td>NotreDame</td>\n",
              "      <td>1255</td>\n",
              "      <td>81</td>\n",
              "      <td>42</td>\n",
              "      <td>13</td>\n",
              "      <td>15122</td>\n",
              "      <td>94</td>\n",
              "      <td>0</td>\n",
              "      <td>1</td>\n",
              "    </tr>\n",
              "    <tr>\n",
              "      <th>13</th>\n",
              "      <td>PennState</td>\n",
              "      <td>1081</td>\n",
              "      <td>38</td>\n",
              "      <td>54</td>\n",
              "      <td>18</td>\n",
              "      <td>10185</td>\n",
              "      <td>80</td>\n",
              "      <td>1</td>\n",
              "      <td>0</td>\n",
              "    </tr>\n",
              "    <tr>\n",
              "      <th>14</th>\n",
              "      <td>Princeton</td>\n",
              "      <td>1375</td>\n",
              "      <td>91</td>\n",
              "      <td>14</td>\n",
              "      <td>8</td>\n",
              "      <td>30220</td>\n",
              "      <td>95</td>\n",
              "      <td>0</td>\n",
              "      <td>1</td>\n",
              "    </tr>\n",
              "    <tr>\n",
              "      <th>15</th>\n",
              "      <td>Purdue</td>\n",
              "      <td>1005</td>\n",
              "      <td>28</td>\n",
              "      <td>90</td>\n",
              "      <td>19</td>\n",
              "      <td>9066</td>\n",
              "      <td>69</td>\n",
              "      <td>1</td>\n",
              "      <td>0</td>\n",
              "    </tr>\n",
              "    <tr>\n",
              "      <th>16</th>\n",
              "      <td>Stanford</td>\n",
              "      <td>1360</td>\n",
              "      <td>90</td>\n",
              "      <td>20</td>\n",
              "      <td>12</td>\n",
              "      <td>36450</td>\n",
              "      <td>93</td>\n",
              "      <td>0</td>\n",
              "      <td>1</td>\n",
              "    </tr>\n",
              "    <tr>\n",
              "      <th>17</th>\n",
              "      <td>TexasA&amp;M</td>\n",
              "      <td>1075</td>\n",
              "      <td>49</td>\n",
              "      <td>67</td>\n",
              "      <td>25</td>\n",
              "      <td>8704</td>\n",
              "      <td>67</td>\n",
              "      <td>2</td>\n",
              "      <td>3</td>\n",
              "    </tr>\n",
              "    <tr>\n",
              "      <th>18</th>\n",
              "      <td>UCBerkeley</td>\n",
              "      <td>1240</td>\n",
              "      <td>95</td>\n",
              "      <td>40</td>\n",
              "      <td>17</td>\n",
              "      <td>15140</td>\n",
              "      <td>78</td>\n",
              "      <td>0</td>\n",
              "      <td>1</td>\n",
              "    </tr>\n",
              "    <tr>\n",
              "      <th>19</th>\n",
              "      <td>UChicago</td>\n",
              "      <td>1290</td>\n",
              "      <td>75</td>\n",
              "      <td>50</td>\n",
              "      <td>13</td>\n",
              "      <td>38380</td>\n",
              "      <td>87</td>\n",
              "      <td>0</td>\n",
              "      <td>1</td>\n",
              "    </tr>\n",
              "    <tr>\n",
              "      <th>20</th>\n",
              "      <td>UMichigan</td>\n",
              "      <td>1180</td>\n",
              "      <td>65</td>\n",
              "      <td>68</td>\n",
              "      <td>16</td>\n",
              "      <td>15470</td>\n",
              "      <td>85</td>\n",
              "      <td>0</td>\n",
              "      <td>0</td>\n",
              "    </tr>\n",
              "    <tr>\n",
              "      <th>21</th>\n",
              "      <td>UPenn</td>\n",
              "      <td>1285</td>\n",
              "      <td>80</td>\n",
              "      <td>36</td>\n",
              "      <td>11</td>\n",
              "      <td>27553</td>\n",
              "      <td>90</td>\n",
              "      <td>0</td>\n",
              "      <td>1</td>\n",
              "    </tr>\n",
              "    <tr>\n",
              "      <th>22</th>\n",
              "      <td>UVA</td>\n",
              "      <td>1225</td>\n",
              "      <td>77</td>\n",
              "      <td>44</td>\n",
              "      <td>14</td>\n",
              "      <td>13349</td>\n",
              "      <td>92</td>\n",
              "      <td>0</td>\n",
              "      <td>1</td>\n",
              "    </tr>\n",
              "    <tr>\n",
              "      <th>23</th>\n",
              "      <td>UWisconsin</td>\n",
              "      <td>1085</td>\n",
              "      <td>40</td>\n",
              "      <td>69</td>\n",
              "      <td>15</td>\n",
              "      <td>11857</td>\n",
              "      <td>71</td>\n",
              "      <td>1</td>\n",
              "      <td>0</td>\n",
              "    </tr>\n",
              "    <tr>\n",
              "      <th>24</th>\n",
              "      <td>Yale</td>\n",
              "      <td>1375</td>\n",
              "      <td>95</td>\n",
              "      <td>19</td>\n",
              "      <td>11</td>\n",
              "      <td>43514</td>\n",
              "      <td>96</td>\n",
              "      <td>0</td>\n",
              "      <td>1</td>\n",
              "    </tr>\n",
              "  </tbody>\n",
              "</table>\n",
              "</div>"
            ],
            "text/plain": [
              "            Univ   SAT  Top10  Accept  SFRatio  Expenses  GradRate  \\\n",
              "0          Brown  1310     89      22       13     22704        94   \n",
              "1        CalTech  1415    100      25        6     63575        81   \n",
              "2            CMU  1260     62      59        9     25026        72   \n",
              "3       Columbia  1310     76      24       12     31510        88   \n",
              "4        Cornell  1280     83      33       13     21864        90   \n",
              "5      Dartmouth  1340     89      23       10     32162        95   \n",
              "6           Duke  1315     90      30       12     31585        95   \n",
              "7     Georgetown  1255     74      24       12     20126        92   \n",
              "8        Harvard  1400     91      14       11     39525        97   \n",
              "9   JohnsHopkins  1305     75      44        7     58691        87   \n",
              "10           MIT  1380     94      30       10     34870        91   \n",
              "11  Northwestern  1260     85      39       11     28052        89   \n",
              "12     NotreDame  1255     81      42       13     15122        94   \n",
              "13     PennState  1081     38      54       18     10185        80   \n",
              "14     Princeton  1375     91      14        8     30220        95   \n",
              "15        Purdue  1005     28      90       19      9066        69   \n",
              "16      Stanford  1360     90      20       12     36450        93   \n",
              "17      TexasA&M  1075     49      67       25      8704        67   \n",
              "18    UCBerkeley  1240     95      40       17     15140        78   \n",
              "19      UChicago  1290     75      50       13     38380        87   \n",
              "20     UMichigan  1180     65      68       16     15470        85   \n",
              "21         UPenn  1285     80      36       11     27553        90   \n",
              "22           UVA  1225     77      44       14     13349        92   \n",
              "23    UWisconsin  1085     40      69       15     11857        71   \n",
              "24          Yale  1375     95      19       11     43514        96   \n",
              "\n",
              "    h_clusterid  labels  \n",
              "0             0       1  \n",
              "1             3       2  \n",
              "2             4       4  \n",
              "3             0       1  \n",
              "4             0       1  \n",
              "5             0       1  \n",
              "6             0       1  \n",
              "7             0       1  \n",
              "8             0       1  \n",
              "9             0       1  \n",
              "10            0       1  \n",
              "11            0       1  \n",
              "12            0       1  \n",
              "13            1       0  \n",
              "14            0       1  \n",
              "15            1       0  \n",
              "16            0       1  \n",
              "17            2       3  \n",
              "18            0       1  \n",
              "19            0       1  \n",
              "20            0       0  \n",
              "21            0       1  \n",
              "22            0       1  \n",
              "23            1       0  \n",
              "24            0       1  "
            ]
          },
          "execution_count": 31,
          "metadata": {},
          "output_type": "execute_result"
        }
      ],
      "source": [
        "Univ"
      ]
    },
    {
      "cell_type": "code",
      "execution_count": null,
      "metadata": {
        "ExecuteTime": {
          "end_time": "2021-09-18T06:36:17.885215Z",
          "start_time": "2021-09-18T06:36:17.865167Z"
        },
        "hidden": true,
        "id": "JFvXZsnTPQ35",
        "outputId": "74fee733-38d7-48ec-f1ff-cc6a738de00b"
      },
      "outputs": [
        {
          "data": {
            "text/plain": [
              "h_clusterid\n",
              "0    (Brown, Columbia, Cornell, Dartmouth, Duke, Ge...\n",
              "1                      (PennState, Purdue, UWisconsin)\n",
              "2                                          (TexasA&M,)\n",
              "3                                           (CalTech,)\n",
              "4                                               (CMU,)\n",
              "Name: Univ, dtype: object"
            ]
          },
          "execution_count": 32,
          "metadata": {},
          "output_type": "execute_result"
        }
      ],
      "source": [
        "Univ.groupby([\"h_clusterid\"])[\"Univ\"].apply(lambda x:tuple(x))"
      ]
    },
    {
      "cell_type": "markdown",
      "metadata": {
        "heading_collapsed": true,
        "id": "Mk7JJvViPQ36"
      },
      "source": [
        "# k means"
      ]
    },
    {
      "cell_type": "code",
      "execution_count": null,
      "metadata": {
        "ExecuteTime": {
          "end_time": "2021-09-19T04:10:57.562742Z",
          "start_time": "2021-09-19T04:10:57.534260Z"
        },
        "hidden": true,
        "id": "2KZusJFQPQ37"
      },
      "outputs": [],
      "source": [
        "from sklearn.cluster import KMeans"
      ]
    },
    {
      "cell_type": "code",
      "execution_count": null,
      "metadata": {
        "ExecuteTime": {
          "end_time": "2021-09-18T06:35:25.398830Z",
          "start_time": "2021-09-18T06:35:25.239323Z"
        },
        "hidden": true,
        "id": "20tYzFJUPQ38",
        "outputId": "65ca130f-8ae0-4be1-93db-5e1b57fdaaf5"
      },
      "outputs": [
        {
          "data": {
            "text/plain": [
              "KMeans(n_clusters=5)"
            ]
          },
          "execution_count": 18,
          "metadata": {},
          "output_type": "execute_result"
        }
      ],
      "source": [
        "model_kmeans = KMeans(n_clusters=5) \n",
        "model_kmeans.fit(df_norm)"
      ]
    },
    {
      "cell_type": "code",
      "execution_count": null,
      "metadata": {
        "ExecuteTime": {
          "end_time": "2021-09-18T06:35:28.464618Z",
          "start_time": "2021-09-18T06:35:28.455653Z"
        },
        "hidden": true,
        "id": "jLvAn18CPQ38",
        "outputId": "55f45e83-a6a1-4f45-e1db-6b65aa14f4e6"
      },
      "outputs": [
        {
          "data": {
            "text/plain": [
              "array([1, 2, 4, 1, 1, 1, 1, 1, 1, 1, 1, 1, 1, 0, 1, 0, 1, 3, 1, 1, 0, 1,\n",
              "       1, 0, 1], dtype=int32)"
            ]
          },
          "execution_count": 19,
          "metadata": {},
          "output_type": "execute_result"
        }
      ],
      "source": [
        "model_kmeans.labels_"
      ]
    },
    {
      "cell_type": "code",
      "execution_count": null,
      "metadata": {
        "ExecuteTime": {
          "end_time": "2021-09-18T06:35:30.763920Z",
          "start_time": "2021-09-18T06:35:30.758745Z"
        },
        "hidden": true,
        "id": "8dblBWo-PQ39"
      },
      "outputs": [],
      "source": [
        "md=pd.Series(model_kmeans.labels_)"
      ]
    },
    {
      "cell_type": "code",
      "execution_count": null,
      "metadata": {
        "ExecuteTime": {
          "end_time": "2021-09-18T06:35:31.516102Z",
          "start_time": "2021-09-18T06:35:31.511844Z"
        },
        "hidden": true,
        "id": "-OBDk_tePQ39"
      },
      "outputs": [],
      "source": [
        "#Complete-linkage clustering - Wikipedia"
      ]
    },
    {
      "cell_type": "code",
      "execution_count": null,
      "metadata": {
        "ExecuteTime": {
          "end_time": "2021-09-18T06:35:32.120034Z",
          "start_time": "2021-09-18T06:35:32.086941Z"
        },
        "hidden": true,
        "id": "DOcuaQDHPQ3-"
      },
      "outputs": [],
      "source": [
        "Univ[\"labels\"]=pd.Series(model_kmeans.labels_)"
      ]
    },
    {
      "cell_type": "code",
      "execution_count": null,
      "metadata": {
        "ExecuteTime": {
          "end_time": "2021-09-18T06:35:32.982861Z",
          "start_time": "2021-09-18T06:35:32.952041Z"
        },
        "hidden": true,
        "scrolled": false,
        "id": "j14rWYXWPQ3-",
        "outputId": "291c6192-02c0-49a9-a38e-862da5be8b3e"
      },
      "outputs": [
        {
          "data": {
            "text/html": [
              "<div>\n",
              "<style scoped>\n",
              "    .dataframe tbody tr th:only-of-type {\n",
              "        vertical-align: middle;\n",
              "    }\n",
              "\n",
              "    .dataframe tbody tr th {\n",
              "        vertical-align: top;\n",
              "    }\n",
              "\n",
              "    .dataframe thead th {\n",
              "        text-align: right;\n",
              "    }\n",
              "</style>\n",
              "<table border=\"1\" class=\"dataframe\">\n",
              "  <thead>\n",
              "    <tr style=\"text-align: right;\">\n",
              "      <th></th>\n",
              "      <th>Univ</th>\n",
              "      <th>SAT</th>\n",
              "      <th>Top10</th>\n",
              "      <th>Accept</th>\n",
              "      <th>SFRatio</th>\n",
              "      <th>Expenses</th>\n",
              "      <th>GradRate</th>\n",
              "      <th>h_clusterid</th>\n",
              "      <th>labels</th>\n",
              "    </tr>\n",
              "  </thead>\n",
              "  <tbody>\n",
              "    <tr>\n",
              "      <th>0</th>\n",
              "      <td>Brown</td>\n",
              "      <td>1310</td>\n",
              "      <td>89</td>\n",
              "      <td>22</td>\n",
              "      <td>13</td>\n",
              "      <td>22704</td>\n",
              "      <td>94</td>\n",
              "      <td>0</td>\n",
              "      <td>1</td>\n",
              "    </tr>\n",
              "    <tr>\n",
              "      <th>1</th>\n",
              "      <td>CalTech</td>\n",
              "      <td>1415</td>\n",
              "      <td>100</td>\n",
              "      <td>25</td>\n",
              "      <td>6</td>\n",
              "      <td>63575</td>\n",
              "      <td>81</td>\n",
              "      <td>3</td>\n",
              "      <td>2</td>\n",
              "    </tr>\n",
              "    <tr>\n",
              "      <th>2</th>\n",
              "      <td>CMU</td>\n",
              "      <td>1260</td>\n",
              "      <td>62</td>\n",
              "      <td>59</td>\n",
              "      <td>9</td>\n",
              "      <td>25026</td>\n",
              "      <td>72</td>\n",
              "      <td>1</td>\n",
              "      <td>4</td>\n",
              "    </tr>\n",
              "    <tr>\n",
              "      <th>3</th>\n",
              "      <td>Columbia</td>\n",
              "      <td>1310</td>\n",
              "      <td>76</td>\n",
              "      <td>24</td>\n",
              "      <td>12</td>\n",
              "      <td>31510</td>\n",
              "      <td>88</td>\n",
              "      <td>0</td>\n",
              "      <td>1</td>\n",
              "    </tr>\n",
              "    <tr>\n",
              "      <th>4</th>\n",
              "      <td>Cornell</td>\n",
              "      <td>1280</td>\n",
              "      <td>83</td>\n",
              "      <td>33</td>\n",
              "      <td>13</td>\n",
              "      <td>21864</td>\n",
              "      <td>90</td>\n",
              "      <td>0</td>\n",
              "      <td>1</td>\n",
              "    </tr>\n",
              "    <tr>\n",
              "      <th>5</th>\n",
              "      <td>Dartmouth</td>\n",
              "      <td>1340</td>\n",
              "      <td>89</td>\n",
              "      <td>23</td>\n",
              "      <td>10</td>\n",
              "      <td>32162</td>\n",
              "      <td>95</td>\n",
              "      <td>0</td>\n",
              "      <td>1</td>\n",
              "    </tr>\n",
              "    <tr>\n",
              "      <th>6</th>\n",
              "      <td>Duke</td>\n",
              "      <td>1315</td>\n",
              "      <td>90</td>\n",
              "      <td>30</td>\n",
              "      <td>12</td>\n",
              "      <td>31585</td>\n",
              "      <td>95</td>\n",
              "      <td>0</td>\n",
              "      <td>1</td>\n",
              "    </tr>\n",
              "    <tr>\n",
              "      <th>7</th>\n",
              "      <td>Georgetown</td>\n",
              "      <td>1255</td>\n",
              "      <td>74</td>\n",
              "      <td>24</td>\n",
              "      <td>12</td>\n",
              "      <td>20126</td>\n",
              "      <td>92</td>\n",
              "      <td>0</td>\n",
              "      <td>1</td>\n",
              "    </tr>\n",
              "    <tr>\n",
              "      <th>8</th>\n",
              "      <td>Harvard</td>\n",
              "      <td>1400</td>\n",
              "      <td>91</td>\n",
              "      <td>14</td>\n",
              "      <td>11</td>\n",
              "      <td>39525</td>\n",
              "      <td>97</td>\n",
              "      <td>0</td>\n",
              "      <td>1</td>\n",
              "    </tr>\n",
              "    <tr>\n",
              "      <th>9</th>\n",
              "      <td>JohnsHopkins</td>\n",
              "      <td>1305</td>\n",
              "      <td>75</td>\n",
              "      <td>44</td>\n",
              "      <td>7</td>\n",
              "      <td>58691</td>\n",
              "      <td>87</td>\n",
              "      <td>0</td>\n",
              "      <td>1</td>\n",
              "    </tr>\n",
              "    <tr>\n",
              "      <th>10</th>\n",
              "      <td>MIT</td>\n",
              "      <td>1380</td>\n",
              "      <td>94</td>\n",
              "      <td>30</td>\n",
              "      <td>10</td>\n",
              "      <td>34870</td>\n",
              "      <td>91</td>\n",
              "      <td>0</td>\n",
              "      <td>1</td>\n",
              "    </tr>\n",
              "    <tr>\n",
              "      <th>11</th>\n",
              "      <td>Northwestern</td>\n",
              "      <td>1260</td>\n",
              "      <td>85</td>\n",
              "      <td>39</td>\n",
              "      <td>11</td>\n",
              "      <td>28052</td>\n",
              "      <td>89</td>\n",
              "      <td>0</td>\n",
              "      <td>1</td>\n",
              "    </tr>\n",
              "    <tr>\n",
              "      <th>12</th>\n",
              "      <td>NotreDame</td>\n",
              "      <td>1255</td>\n",
              "      <td>81</td>\n",
              "      <td>42</td>\n",
              "      <td>13</td>\n",
              "      <td>15122</td>\n",
              "      <td>94</td>\n",
              "      <td>0</td>\n",
              "      <td>1</td>\n",
              "    </tr>\n",
              "    <tr>\n",
              "      <th>13</th>\n",
              "      <td>PennState</td>\n",
              "      <td>1081</td>\n",
              "      <td>38</td>\n",
              "      <td>54</td>\n",
              "      <td>18</td>\n",
              "      <td>10185</td>\n",
              "      <td>80</td>\n",
              "      <td>0</td>\n",
              "      <td>0</td>\n",
              "    </tr>\n",
              "    <tr>\n",
              "      <th>14</th>\n",
              "      <td>Princeton</td>\n",
              "      <td>1375</td>\n",
              "      <td>91</td>\n",
              "      <td>14</td>\n",
              "      <td>8</td>\n",
              "      <td>30220</td>\n",
              "      <td>95</td>\n",
              "      <td>0</td>\n",
              "      <td>1</td>\n",
              "    </tr>\n",
              "    <tr>\n",
              "      <th>15</th>\n",
              "      <td>Purdue</td>\n",
              "      <td>1005</td>\n",
              "      <td>28</td>\n",
              "      <td>90</td>\n",
              "      <td>19</td>\n",
              "      <td>9066</td>\n",
              "      <td>69</td>\n",
              "      <td>0</td>\n",
              "      <td>0</td>\n",
              "    </tr>\n",
              "    <tr>\n",
              "      <th>16</th>\n",
              "      <td>Stanford</td>\n",
              "      <td>1360</td>\n",
              "      <td>90</td>\n",
              "      <td>20</td>\n",
              "      <td>12</td>\n",
              "      <td>36450</td>\n",
              "      <td>93</td>\n",
              "      <td>0</td>\n",
              "      <td>1</td>\n",
              "    </tr>\n",
              "    <tr>\n",
              "      <th>17</th>\n",
              "      <td>TexasA&amp;M</td>\n",
              "      <td>1075</td>\n",
              "      <td>49</td>\n",
              "      <td>67</td>\n",
              "      <td>25</td>\n",
              "      <td>8704</td>\n",
              "      <td>67</td>\n",
              "      <td>2</td>\n",
              "      <td>3</td>\n",
              "    </tr>\n",
              "    <tr>\n",
              "      <th>18</th>\n",
              "      <td>UCBerkeley</td>\n",
              "      <td>1240</td>\n",
              "      <td>95</td>\n",
              "      <td>40</td>\n",
              "      <td>17</td>\n",
              "      <td>15140</td>\n",
              "      <td>78</td>\n",
              "      <td>0</td>\n",
              "      <td>1</td>\n",
              "    </tr>\n",
              "    <tr>\n",
              "      <th>19</th>\n",
              "      <td>UChicago</td>\n",
              "      <td>1290</td>\n",
              "      <td>75</td>\n",
              "      <td>50</td>\n",
              "      <td>13</td>\n",
              "      <td>38380</td>\n",
              "      <td>87</td>\n",
              "      <td>0</td>\n",
              "      <td>1</td>\n",
              "    </tr>\n",
              "    <tr>\n",
              "      <th>20</th>\n",
              "      <td>UMichigan</td>\n",
              "      <td>1180</td>\n",
              "      <td>65</td>\n",
              "      <td>68</td>\n",
              "      <td>16</td>\n",
              "      <td>15470</td>\n",
              "      <td>85</td>\n",
              "      <td>0</td>\n",
              "      <td>0</td>\n",
              "    </tr>\n",
              "    <tr>\n",
              "      <th>21</th>\n",
              "      <td>UPenn</td>\n",
              "      <td>1285</td>\n",
              "      <td>80</td>\n",
              "      <td>36</td>\n",
              "      <td>11</td>\n",
              "      <td>27553</td>\n",
              "      <td>90</td>\n",
              "      <td>0</td>\n",
              "      <td>1</td>\n",
              "    </tr>\n",
              "    <tr>\n",
              "      <th>22</th>\n",
              "      <td>UVA</td>\n",
              "      <td>1225</td>\n",
              "      <td>77</td>\n",
              "      <td>44</td>\n",
              "      <td>14</td>\n",
              "      <td>13349</td>\n",
              "      <td>92</td>\n",
              "      <td>0</td>\n",
              "      <td>1</td>\n",
              "    </tr>\n",
              "    <tr>\n",
              "      <th>23</th>\n",
              "      <td>UWisconsin</td>\n",
              "      <td>1085</td>\n",
              "      <td>40</td>\n",
              "      <td>69</td>\n",
              "      <td>15</td>\n",
              "      <td>11857</td>\n",
              "      <td>71</td>\n",
              "      <td>0</td>\n",
              "      <td>0</td>\n",
              "    </tr>\n",
              "    <tr>\n",
              "      <th>24</th>\n",
              "      <td>Yale</td>\n",
              "      <td>1375</td>\n",
              "      <td>95</td>\n",
              "      <td>19</td>\n",
              "      <td>11</td>\n",
              "      <td>43514</td>\n",
              "      <td>96</td>\n",
              "      <td>0</td>\n",
              "      <td>1</td>\n",
              "    </tr>\n",
              "  </tbody>\n",
              "</table>\n",
              "</div>"
            ],
            "text/plain": [
              "            Univ   SAT  Top10  Accept  SFRatio  Expenses  GradRate  \\\n",
              "0          Brown  1310     89      22       13     22704        94   \n",
              "1        CalTech  1415    100      25        6     63575        81   \n",
              "2            CMU  1260     62      59        9     25026        72   \n",
              "3       Columbia  1310     76      24       12     31510        88   \n",
              "4        Cornell  1280     83      33       13     21864        90   \n",
              "5      Dartmouth  1340     89      23       10     32162        95   \n",
              "6           Duke  1315     90      30       12     31585        95   \n",
              "7     Georgetown  1255     74      24       12     20126        92   \n",
              "8        Harvard  1400     91      14       11     39525        97   \n",
              "9   JohnsHopkins  1305     75      44        7     58691        87   \n",
              "10           MIT  1380     94      30       10     34870        91   \n",
              "11  Northwestern  1260     85      39       11     28052        89   \n",
              "12     NotreDame  1255     81      42       13     15122        94   \n",
              "13     PennState  1081     38      54       18     10185        80   \n",
              "14     Princeton  1375     91      14        8     30220        95   \n",
              "15        Purdue  1005     28      90       19      9066        69   \n",
              "16      Stanford  1360     90      20       12     36450        93   \n",
              "17      TexasA&M  1075     49      67       25      8704        67   \n",
              "18    UCBerkeley  1240     95      40       17     15140        78   \n",
              "19      UChicago  1290     75      50       13     38380        87   \n",
              "20     UMichigan  1180     65      68       16     15470        85   \n",
              "21         UPenn  1285     80      36       11     27553        90   \n",
              "22           UVA  1225     77      44       14     13349        92   \n",
              "23    UWisconsin  1085     40      69       15     11857        71   \n",
              "24          Yale  1375     95      19       11     43514        96   \n",
              "\n",
              "    h_clusterid  labels  \n",
              "0             0       1  \n",
              "1             3       2  \n",
              "2             1       4  \n",
              "3             0       1  \n",
              "4             0       1  \n",
              "5             0       1  \n",
              "6             0       1  \n",
              "7             0       1  \n",
              "8             0       1  \n",
              "9             0       1  \n",
              "10            0       1  \n",
              "11            0       1  \n",
              "12            0       1  \n",
              "13            0       0  \n",
              "14            0       1  \n",
              "15            0       0  \n",
              "16            0       1  \n",
              "17            2       3  \n",
              "18            0       1  \n",
              "19            0       1  \n",
              "20            0       0  \n",
              "21            0       1  \n",
              "22            0       1  \n",
              "23            0       0  \n",
              "24            0       1  "
            ]
          },
          "execution_count": 23,
          "metadata": {},
          "output_type": "execute_result"
        }
      ],
      "source": [
        "Univ"
      ]
    },
    {
      "cell_type": "code",
      "execution_count": null,
      "metadata": {
        "ExecuteTime": {
          "end_time": "2021-09-18T06:37:30.759211Z",
          "start_time": "2021-09-18T06:37:30.736231Z"
        },
        "hidden": true,
        "id": "nzjcYFY2PQ3_",
        "outputId": "282a9aa6-505c-437b-927f-c70c3ae97816"
      },
      "outputs": [
        {
          "data": {
            "text/html": [
              "<div>\n",
              "<style scoped>\n",
              "    .dataframe tbody tr th:only-of-type {\n",
              "        vertical-align: middle;\n",
              "    }\n",
              "\n",
              "    .dataframe tbody tr th {\n",
              "        vertical-align: top;\n",
              "    }\n",
              "\n",
              "    .dataframe thead th {\n",
              "        text-align: right;\n",
              "    }\n",
              "</style>\n",
              "<table border=\"1\" class=\"dataframe\">\n",
              "  <thead>\n",
              "    <tr style=\"text-align: right;\">\n",
              "      <th></th>\n",
              "      <th>Univ</th>\n",
              "      <th>SAT</th>\n",
              "      <th>Top10</th>\n",
              "      <th>Accept</th>\n",
              "      <th>SFRatio</th>\n",
              "      <th>Expenses</th>\n",
              "      <th>GradRate</th>\n",
              "      <th>h_clusterid</th>\n",
              "      <th>labels</th>\n",
              "    </tr>\n",
              "  </thead>\n",
              "  <tbody>\n",
              "    <tr>\n",
              "      <th>13</th>\n",
              "      <td>PennState</td>\n",
              "      <td>1081</td>\n",
              "      <td>38</td>\n",
              "      <td>54</td>\n",
              "      <td>18</td>\n",
              "      <td>10185</td>\n",
              "      <td>80</td>\n",
              "      <td>1</td>\n",
              "      <td>0</td>\n",
              "    </tr>\n",
              "    <tr>\n",
              "      <th>15</th>\n",
              "      <td>Purdue</td>\n",
              "      <td>1005</td>\n",
              "      <td>28</td>\n",
              "      <td>90</td>\n",
              "      <td>19</td>\n",
              "      <td>9066</td>\n",
              "      <td>69</td>\n",
              "      <td>1</td>\n",
              "      <td>0</td>\n",
              "    </tr>\n",
              "    <tr>\n",
              "      <th>23</th>\n",
              "      <td>UWisconsin</td>\n",
              "      <td>1085</td>\n",
              "      <td>40</td>\n",
              "      <td>69</td>\n",
              "      <td>15</td>\n",
              "      <td>11857</td>\n",
              "      <td>71</td>\n",
              "      <td>1</td>\n",
              "      <td>0</td>\n",
              "    </tr>\n",
              "  </tbody>\n",
              "</table>\n",
              "</div>"
            ],
            "text/plain": [
              "          Univ   SAT  Top10  Accept  SFRatio  Expenses  GradRate  h_clusterid  \\\n",
              "13   PennState  1081     38      54       18     10185        80            1   \n",
              "15      Purdue  1005     28      90       19      9066        69            1   \n",
              "23  UWisconsin  1085     40      69       15     11857        71            1   \n",
              "\n",
              "    labels  \n",
              "13       0  \n",
              "15       0  \n",
              "23       0  "
            ]
          },
          "execution_count": 33,
          "metadata": {},
          "output_type": "execute_result"
        }
      ],
      "source": [
        "Univ[Univ[\"Univ\"].isin([\"PennState\",\"Purdue\",\"UWisconsin\"])]"
      ]
    },
    {
      "cell_type": "code",
      "execution_count": null,
      "metadata": {
        "ExecuteTime": {
          "end_time": "2021-09-18T06:35:33.629818Z",
          "start_time": "2021-09-18T06:35:33.611882Z"
        },
        "hidden": true,
        "id": "aJL9K2E9PQ4A",
        "outputId": "dc1c303f-3bf6-470c-e1ff-0252fba2ef2f"
      },
      "outputs": [
        {
          "data": {
            "text/plain": [
              "labels\n",
              "0           (PennState, Purdue, UMichigan, UWisconsin)\n",
              "1    (Brown, Columbia, Cornell, Dartmouth, Duke, Ge...\n",
              "2                                           (CalTech,)\n",
              "3                                          (TexasA&M,)\n",
              "4                                               (CMU,)\n",
              "Name: Univ, dtype: object"
            ]
          },
          "execution_count": 24,
          "metadata": {},
          "output_type": "execute_result"
        }
      ],
      "source": [
        "Univ.groupby([\"labels\"])[\"Univ\"].apply(lambda x:tuple(x))"
      ]
    },
    {
      "cell_type": "markdown",
      "metadata": {
        "id": "kbRLCLcRPQ4B"
      },
      "source": [
        "# DBSCAN"
      ]
    },
    {
      "cell_type": "code",
      "execution_count": null,
      "metadata": {
        "ExecuteTime": {
          "end_time": "2021-09-19T04:16:25.816630Z",
          "start_time": "2021-09-19T04:16:25.803473Z"
        },
        "id": "eYhU1TghPQ4B"
      },
      "outputs": [],
      "source": [
        "from sklearn.cluster import DBSCAN \n",
        "import seaborn as sns\n",
        "from sklearn.preprocessing import MinMaxScaler\n",
        "\n",
        "\n"
      ]
    },
    {
      "cell_type": "code",
      "execution_count": null,
      "metadata": {
        "ExecuteTime": {
          "end_time": "2021-09-19T04:16:26.215772Z",
          "start_time": "2021-09-19T04:16:26.191553Z"
        },
        "id": "rUfga9jJPQ4B",
        "outputId": "e64623d1-238d-436e-ea0a-7894aed05e1c"
      },
      "outputs": [
        {
          "data": {
            "text/html": [
              "<div>\n",
              "<style scoped>\n",
              "    .dataframe tbody tr th:only-of-type {\n",
              "        vertical-align: middle;\n",
              "    }\n",
              "\n",
              "    .dataframe tbody tr th {\n",
              "        vertical-align: top;\n",
              "    }\n",
              "\n",
              "    .dataframe thead th {\n",
              "        text-align: right;\n",
              "    }\n",
              "</style>\n",
              "<table border=\"1\" class=\"dataframe\">\n",
              "  <thead>\n",
              "    <tr style=\"text-align: right;\">\n",
              "      <th></th>\n",
              "      <th>f1</th>\n",
              "      <th>f2</th>\n",
              "      <th>class</th>\n",
              "    </tr>\n",
              "  </thead>\n",
              "  <tbody>\n",
              "    <tr>\n",
              "      <th>0</th>\n",
              "      <td>0.518393</td>\n",
              "      <td>0.855143</td>\n",
              "      <td>0</td>\n",
              "    </tr>\n",
              "    <tr>\n",
              "      <th>1</th>\n",
              "      <td>0.073083</td>\n",
              "      <td>0.124733</td>\n",
              "      <td>1</td>\n",
              "    </tr>\n",
              "    <tr>\n",
              "      <th>2</th>\n",
              "      <td>0.159600</td>\n",
              "      <td>0.987182</td>\n",
              "      <td>0</td>\n",
              "    </tr>\n",
              "    <tr>\n",
              "      <th>3</th>\n",
              "      <td>1.159600</td>\n",
              "      <td>-0.487182</td>\n",
              "      <td>1</td>\n",
              "    </tr>\n",
              "    <tr>\n",
              "      <th>4</th>\n",
              "      <td>0.099031</td>\n",
              "      <td>0.066116</td>\n",
              "      <td>1</td>\n",
              "    </tr>\n",
              "  </tbody>\n",
              "</table>\n",
              "</div>"
            ],
            "text/plain": [
              "         f1        f2  class\n",
              "0  0.518393  0.855143      0\n",
              "1  0.073083  0.124733      1\n",
              "2  0.159600  0.987182      0\n",
              "3  1.159600 -0.487182      1\n",
              "4  0.099031  0.066116      1"
            ]
          },
          "execution_count": 10,
          "metadata": {},
          "output_type": "execute_result"
        }
      ],
      "source": [
        "from sklearn.datasets import make_moons\n",
        "x,y=make_moons(100)\n",
        "data=pd.DataFrame(x)\n",
        "data.columns=[\"f1\",\"f2\"]\n",
        "data[\"class\"]=y\n",
        "data.head()"
      ]
    },
    {
      "cell_type": "code",
      "execution_count": null,
      "metadata": {
        "ExecuteTime": {
          "end_time": "2021-09-19T04:16:26.891131Z",
          "start_time": "2021-09-19T04:16:26.613548Z"
        },
        "id": "A3eMQFTFPQ4C",
        "outputId": "1bf5b399-a0db-4c6a-91e8-582d50ba0601"
      },
      "outputs": [
        {
          "data": {
            "text/plain": [
              "<matplotlib.collections.PathCollection at 0x7fa7ab5de250>"
            ]
          },
          "execution_count": 11,
          "metadata": {},
          "output_type": "execute_result"
        },
        {
          "data": {
            "image/png": "[encoded data removed]",
            "text/plain": [
              "<Figure size 432x288 with 1 Axes>"
            ]
          },
          "metadata": {
            "needs_background": "light"
          },
          "output_type": "display_data"
        }
      ],
      "source": [
        "plt.scatter(data[\"f1\"],data[\"f2\"],cmap=plt.cm.Accent)"
      ]
    },
    {
      "cell_type": "code",
      "execution_count": null,
      "metadata": {
        "ExecuteTime": {
          "end_time": "2021-09-19T04:17:48.342420Z",
          "start_time": "2021-09-19T04:17:47.987100Z"
        },
        "id": "zzowdxOCPQ4C",
        "outputId": "72ce2453-c2b7-4dcb-e232-3963ae107887"
      },
      "outputs": [
        {
          "data": {
            "text/plain": [
              "<matplotlib.collections.PathCollection at 0x7fa7ae098910>"
            ]
          },
          "execution_count": 16,
          "metadata": {},
          "output_type": "execute_result"
        },
        {
          "data": {
            "image/png": "[encoded data removed]",
            "text/plain": [
              "<Figure size 432x288 with 1 Axes>"
            ]
          },
          "metadata": {
            "needs_background": "light"
          },
          "output_type": "display_data"
        }
      ],
      "source": [
        "#using kmeans\n",
        "model = KMeans(n_clusters=2, max_iter=600, algorithm = 'auto')\n",
        "model.fit(data.iloc[:,:2])\n",
        "plt.scatter(data[\"f1\"],data[\"f2\"],c=model.labels_,cmap=plt.cm.autumn)"
      ]
    },
    {
      "cell_type": "code",
      "execution_count": null,
      "metadata": {
        "ExecuteTime": {
          "end_time": "2021-09-19T04:16:28.286182Z",
          "start_time": "2021-09-19T04:16:28.266793Z"
        },
        "id": "yL86weW3PQ4D",
        "outputId": "1b71bc7d-7772-4cf4-b494-cb00792bbb5b"
      },
      "outputs": [
        {
          "data": {
            "text/plain": [
              "array([0, 0, 0, 1, 0, 0, 0, 0, 1, 1, 1, 1, 0, 1, 1, 0, 1, 1, 1, 1, 1, 0,\n",
              "       0, 1, 0, 1, 0, 1, 1, 0, 0, 1, 1, 0, 0, 1, 1, 0, 1, 0, 0, 1, 0, 1,\n",
              "       0, 1, 1, 1, 0, 1, 0, 1, 0, 0, 1, 0, 0, 1, 0, 1, 1, 0, 1, 0, 1, 0,\n",
              "       1, 0, 0, 1, 0, 0, 0, 0, 0, 1, 1, 0, 0, 1, 1, 1, 1, 1, 1, 0, 0, 0,\n",
              "       1, 0, 0, 1, 1, 0, 1, 1, 1, 0, 0, 0], dtype=int32)"
            ]
          },
          "execution_count": 13,
          "metadata": {},
          "output_type": "execute_result"
        }
      ],
      "source": [
        "model.labels_"
      ]
    },
    {
      "cell_type": "code",
      "execution_count": null,
      "metadata": {
        "ExecuteTime": {
          "end_time": "2021-07-26T16:25:58.488703Z",
          "start_time": "2021-07-26T16:25:58.245424Z"
        },
        "id": "_xeobyA6PQ4E",
        "outputId": "123c8b8b-c730-4620-ea39-8c0ca385ea5d"
      },
      "outputs": [
        {
          "data": {
            "text/plain": [
              "<matplotlib.collections.PathCollection at 0x7fb1a1cdefd0>"
            ]
          },
          "execution_count": 17,
          "metadata": {},
          "output_type": "execute_result"
        },
        {
          "data": {
            "image/png": "[encoded data removed]",
            "text/plain": [
              "<Figure size 432x288 with 1 Axes>"
            ]
          },
          "metadata": {
            "needs_background": "light"
          },
          "output_type": "display_data"
        }
      ],
      "source": [
        "#using hierarchical\n",
        "\n",
        "cluster = AgglomerativeClustering(n_clusters=2, affinity='euclidean', linkage=\"complete\")\n",
        "plt.scatter(data[\"f1\"],data[\"f2\"],c=cluster.fit_predict(data.iloc[:,:2]),cmap=plt.cm.Accent)\n"
      ]
    },
    {
      "cell_type": "code",
      "execution_count": null,
      "metadata": {
        "ExecuteTime": {
          "end_time": "2021-07-26T16:28:25.189302Z",
          "start_time": "2021-07-26T16:28:24.954070Z"
        },
        "id": "1wij2LW4PQ4E",
        "outputId": "519f10ee-0f68-4faf-ef8a-6c3b7505fbe5"
      },
      "outputs": [
        {
          "data": {
            "text/plain": [
              "<matplotlib.collections.PathCollection at 0x7fb1a26e70d0>"
            ]
          },
          "execution_count": 24,
          "metadata": {},
          "output_type": "execute_result"
        },
        {
          "data": {
            "image/png": "[encoded data removed]",
            "text/plain": [
              "<Figure size 432x288 with 1 Axes>"
            ]
          },
          "metadata": {
            "needs_background": "light"
          },
          "output_type": "display_data"
        }
      ],
      "source": [
        "#DBSCAN\n",
        "\n",
        "dbs=DBSCAN(min_samples=2,eps=0.2)\n",
        "claas_pr=dbs.fit_predict(data.iloc[:,:2])\n",
        "plt.scatter(data[\"f1\"],data[\"f2\"],c=claas_pr,cmap=plt.cm.Accent)\n",
        "\n"
      ]
    },
    {
      "cell_type": "code",
      "execution_count": null,
      "metadata": {
        "ExecuteTime": {
          "end_time": "2021-07-26T16:28:25.810699Z",
          "start_time": "2021-07-26T16:28:25.787244Z"
        },
        "id": "Cm9jgA-2PQ4F",
        "outputId": "d963c6dc-2424-4c89-903b-5d55bcf9d1b9"
      },
      "outputs": [
        {
          "data": {
            "text/plain": [
              "array([0, 0, 0, 1, 0, 0, 1, 0, 0, 0, 0, 0, 1, 0, 1, 0, 0, 0, 0, 0, 1, 0,\n",
              "       1, 1, 0, 1, 1, 0, 1, 0, 1, 0, 1, 1, 1, 0, 0, 0, 0, 0, 1, 1, 1, 0,\n",
              "       0, 1, 1, 0, 0, 1, 0, 0, 1, 1, 1, 1, 0, 1, 0, 0, 0, 1, 1, 0, 1, 1,\n",
              "       0, 1, 1, 1, 1, 1, 1, 0, 0, 1, 1, 0, 0, 0, 1, 1, 1, 0, 1, 0, 1, 0,\n",
              "       1, 1, 1, 1, 0, 0, 1, 1, 0, 1, 0, 1])"
            ]
          },
          "execution_count": 25,
          "metadata": {},
          "output_type": "execute_result"
        }
      ],
      "source": [
        "claas_pr"
      ]
    },
    {
      "cell_type": "markdown",
      "metadata": {
        "id": "XoDOzu26PQ4F"
      },
      "source": [
        " # finding the optimal number of clusters\n"
      ]
    },
    {
      "cell_type": "code",
      "execution_count": null,
      "metadata": {
        "ExecuteTime": {
          "end_time": "2021-09-19T04:56:23.488400Z",
          "start_time": "2021-09-19T04:56:23.454718Z"
        },
        "id": "PMGz0CZbPQ4F"
      },
      "outputs": [],
      "source": [
        "iris=sns.load_dataset(\"iris\") "
      ]
    },
    {
      "cell_type": "code",
      "execution_count": null,
      "metadata": {
        "ExecuteTime": {
          "end_time": "2021-09-19T04:56:26.655973Z",
          "start_time": "2021-09-19T04:56:26.607849Z"
        },
        "id": "Tp86dAdJPQ4G",
        "outputId": "b6d831a5-2cbe-4508-edf9-2be475109345"
      },
      "outputs": [
        {
          "data": {
            "text/html": [
              "<div>\n",
              "<style scoped>\n",
              "    .dataframe tbody tr th:only-of-type {\n",
              "        vertical-align: middle;\n",
              "    }\n",
              "\n",
              "    .dataframe tbody tr th {\n",
              "        vertical-align: top;\n",
              "    }\n",
              "\n",
              "    .dataframe thead th {\n",
              "        text-align: right;\n",
              "    }\n",
              "</style>\n",
              "<table border=\"1\" class=\"dataframe\">\n",
              "  <thead>\n",
              "    <tr style=\"text-align: right;\">\n",
              "      <th></th>\n",
              "      <th>sepal_length</th>\n",
              "      <th>sepal_width</th>\n",
              "      <th>petal_length</th>\n",
              "      <th>petal_width</th>\n",
              "      <th>species</th>\n",
              "    </tr>\n",
              "  </thead>\n",
              "  <tbody>\n",
              "    <tr>\n",
              "      <th>6</th>\n",
              "      <td>4.6</td>\n",
              "      <td>3.4</td>\n",
              "      <td>1.4</td>\n",
              "      <td>0.3</td>\n",
              "      <td>setosa</td>\n",
              "    </tr>\n",
              "    <tr>\n",
              "      <th>83</th>\n",
              "      <td>6.0</td>\n",
              "      <td>2.7</td>\n",
              "      <td>5.1</td>\n",
              "      <td>1.6</td>\n",
              "      <td>versicolor</td>\n",
              "    </tr>\n",
              "    <tr>\n",
              "      <th>19</th>\n",
              "      <td>5.1</td>\n",
              "      <td>3.8</td>\n",
              "      <td>1.5</td>\n",
              "      <td>0.3</td>\n",
              "      <td>setosa</td>\n",
              "    </tr>\n",
              "    <tr>\n",
              "      <th>122</th>\n",
              "      <td>7.7</td>\n",
              "      <td>2.8</td>\n",
              "      <td>6.7</td>\n",
              "      <td>2.0</td>\n",
              "      <td>virginica</td>\n",
              "    </tr>\n",
              "    <tr>\n",
              "      <th>38</th>\n",
              "      <td>4.4</td>\n",
              "      <td>3.0</td>\n",
              "      <td>1.3</td>\n",
              "      <td>0.2</td>\n",
              "      <td>setosa</td>\n",
              "    </tr>\n",
              "    <tr>\n",
              "      <th>115</th>\n",
              "      <td>6.4</td>\n",
              "      <td>3.2</td>\n",
              "      <td>5.3</td>\n",
              "      <td>2.3</td>\n",
              "      <td>virginica</td>\n",
              "    </tr>\n",
              "    <tr>\n",
              "      <th>132</th>\n",
              "      <td>6.4</td>\n",
              "      <td>2.8</td>\n",
              "      <td>5.6</td>\n",
              "      <td>2.2</td>\n",
              "      <td>virginica</td>\n",
              "    </tr>\n",
              "    <tr>\n",
              "      <th>117</th>\n",
              "      <td>7.7</td>\n",
              "      <td>3.8</td>\n",
              "      <td>6.7</td>\n",
              "      <td>2.2</td>\n",
              "      <td>virginica</td>\n",
              "    </tr>\n",
              "    <tr>\n",
              "      <th>142</th>\n",
              "      <td>5.8</td>\n",
              "      <td>2.7</td>\n",
              "      <td>5.1</td>\n",
              "      <td>1.9</td>\n",
              "      <td>virginica</td>\n",
              "    </tr>\n",
              "    <tr>\n",
              "      <th>116</th>\n",
              "      <td>6.5</td>\n",
              "      <td>3.0</td>\n",
              "      <td>5.5</td>\n",
              "      <td>1.8</td>\n",
              "      <td>virginica</td>\n",
              "    </tr>\n",
              "  </tbody>\n",
              "</table>\n",
              "</div>"
            ],
            "text/plain": [
              "     sepal_length  sepal_width  petal_length  petal_width     species\n",
              "6             4.6          3.4           1.4          0.3      setosa\n",
              "83            6.0          2.7           5.1          1.6  versicolor\n",
              "19            5.1          3.8           1.5          0.3      setosa\n",
              "122           7.7          2.8           6.7          2.0   virginica\n",
              "38            4.4          3.0           1.3          0.2      setosa\n",
              "115           6.4          3.2           5.3          2.3   virginica\n",
              "132           6.4          2.8           5.6          2.2   virginica\n",
              "117           7.7          3.8           6.7          2.2   virginica\n",
              "142           5.8          2.7           5.1          1.9   virginica\n",
              "116           6.5          3.0           5.5          1.8   virginica"
            ]
          },
          "execution_count": 18,
          "metadata": {},
          "output_type": "execute_result"
        }
      ],
      "source": [
        "iris.sample(10)"
      ]
    },
    {
      "cell_type": "code",
      "execution_count": null,
      "metadata": {
        "ExecuteTime": {
          "end_time": "2021-09-19T04:57:06.271592Z",
          "start_time": "2021-09-19T04:57:05.938092Z"
        },
        "id": "vPrretuTPQ4H"
      },
      "outputs": [],
      "source": [
        "nc=[2,3,4,5,6,7,8,9]\n",
        "iner=[]    \n",
        "for i in nc:\n",
        "    km=KMeans(i)\n",
        "    km.fit(iris.iloc[:,:4])\n",
        "    iner.append(km.inertia_)"
      ]
    },
    {
      "cell_type": "code",
      "execution_count": null,
      "metadata": {
        "ExecuteTime": {
          "end_time": "2021-09-19T04:57:06.536255Z",
          "start_time": "2021-09-19T04:57:06.286283Z"
        },
        "id": "t2wtTneQPQ4H",
        "outputId": "a2866e9d-3444-4dea-ff90-c9681168f06a"
      },
      "outputs": [
        {
          "data": {
            "image/png": "[encoded data removed]",
            "text/plain": [
              "<Figure size 432x288 with 1 Axes>"
            ]
          },
          "metadata": {
            "needs_background": "light"
          },
          "output_type": "display_data"
        }
      ],
      "source": [
        "plt.plot(nc,iner,color=\"black\")\n",
        "plt.scatter(nc,iner,color=\"red\")\n",
        "plt.show()"
      ]
    },
    {
      "cell_type": "markdown",
      "metadata": {
        "id": "TZ5fZyPnPQ4I"
      },
      "source": [
        "# silhouette_score "
      ]
    },
    {
      "cell_type": "code",
      "execution_count": null,
      "metadata": {
        "ExecuteTime": {
          "end_time": "2021-07-27T15:54:54.327405Z",
          "start_time": "2021-07-27T15:54:54.307392Z"
        },
        "id": "SDaNFwinPQ4I"
      },
      "outputs": [],
      "source": [
        "from sklearn.metrics import silhouette_score as sil"
      ]
    },
    {
      "cell_type": "code",
      "execution_count": null,
      "metadata": {
        "ExecuteTime": {
          "end_time": "2021-07-27T15:54:55.562142Z",
          "start_time": "2021-07-27T15:54:55.047948Z"
        },
        "id": "N6o73D7VPQ4J"
      },
      "outputs": [],
      "source": [
        "nc=[2,3,4,5,6,7,8,9]\n",
        "sc_score=[]    \n",
        "for i in nc:\n",
        "    km=KMeans(i)\n",
        "    y=km.fit_predict(iris.iloc[:,:4])\n",
        "    sc_score.append(sil(iris.iloc[:,:4],y))"
      ]
    },
    {
      "cell_type": "code",
      "execution_count": null,
      "metadata": {
        "ExecuteTime": {
          "end_time": "2021-07-27T15:54:56.685301Z",
          "start_time": "2021-07-27T15:54:56.333998Z"
        },
        "id": "h8kJjPULPQ4J",
        "outputId": "2dad5a3f-cfd5-4584-8cdb-e85e11a68c6b"
      },
      "outputs": [
        {
          "data": {
            "image/png": "[encoded data removed]",
            "text/plain": [
              "<Figure size 432x288 with 1 Axes>"
            ]
          },
          "metadata": {
            "needs_background": "light"
          },
          "output_type": "display_data"
        }
      ],
      "source": [
        "plt.plot(nc,sc_score,color=\"black\")\n",
        "plt.scatter(nc,sc_score,color=\"red\")\n",
        "plt.show()"
      ]
    },
    {
      "cell_type": "markdown",
      "metadata": {
        "id": "7KBKQweWPQ4K"
      },
      "source": [
        "# calinski_harabaz_score"
      ]
    },
    {
      "cell_type": "code",
      "execution_count": null,
      "metadata": {
        "ExecuteTime": {
          "end_time": "2021-04-17T05:10:03.463891Z",
          "start_time": "2021-04-17T05:10:03.459138Z"
        },
        "id": "13DWzht9PQ4K"
      },
      "outputs": [],
      "source": [
        "from sklearn.metrics import calinski_harabasz_score"
      ]
    },
    {
      "cell_type": "code",
      "execution_count": null,
      "metadata": {
        "ExecuteTime": {
          "end_time": "2021-02-21T01:12:40.062323Z",
          "start_time": "2021-02-21T01:12:39.780132Z"
        },
        "id": "s7_Vr150PQ4L",
        "outputId": "c2b79faa-7c22-4a12-9e68-420742766766"
      },
      "outputs": [
        {
          "name": "stderr",
          "output_type": "stream",
          "text": [
            "/Users/anaconda3/lib/python3.7/site-packages/sklearn/utils/deprecation.py:85: DeprecationWarning: Function calinski_harabaz_score is deprecated; Function 'calinski_harabaz_score' has been renamed to 'calinski_harabasz_score' and will be removed in version 0.23.\n",
            "  warnings.warn(msg, category=DeprecationWarning)\n",
            "/Users/anaconda3/lib/python3.7/site-packages/sklearn/utils/deprecation.py:85: DeprecationWarning: Function calinski_harabaz_score is deprecated; Function 'calinski_harabaz_score' has been renamed to 'calinski_harabasz_score' and will be removed in version 0.23.\n",
            "  warnings.warn(msg, category=DeprecationWarning)\n",
            "/Users/anaconda3/lib/python3.7/site-packages/sklearn/utils/deprecation.py:85: DeprecationWarning: Function calinski_harabaz_score is deprecated; Function 'calinski_harabaz_score' has been renamed to 'calinski_harabasz_score' and will be removed in version 0.23.\n",
            "  warnings.warn(msg, category=DeprecationWarning)\n",
            "/Users/anaconda3/lib/python3.7/site-packages/sklearn/utils/deprecation.py:85: DeprecationWarning: Function calinski_harabaz_score is deprecated; Function 'calinski_harabaz_score' has been renamed to 'calinski_harabasz_score' and will be removed in version 0.23.\n",
            "  warnings.warn(msg, category=DeprecationWarning)\n",
            "/Users/anaconda3/lib/python3.7/site-packages/sklearn/utils/deprecation.py:85: DeprecationWarning: Function calinski_harabaz_score is deprecated; Function 'calinski_harabaz_score' has been renamed to 'calinski_harabasz_score' and will be removed in version 0.23.\n",
            "  warnings.warn(msg, category=DeprecationWarning)\n",
            "/Users/anaconda3/lib/python3.7/site-packages/sklearn/utils/deprecation.py:85: DeprecationWarning: Function calinski_harabaz_score is deprecated; Function 'calinski_harabaz_score' has been renamed to 'calinski_harabasz_score' and will be removed in version 0.23.\n",
            "  warnings.warn(msg, category=DeprecationWarning)\n",
            "/Users/anaconda3/lib/python3.7/site-packages/sklearn/utils/deprecation.py:85: DeprecationWarning: Function calinski_harabaz_score is deprecated; Function 'calinski_harabaz_score' has been renamed to 'calinski_harabasz_score' and will be removed in version 0.23.\n",
            "  warnings.warn(msg, category=DeprecationWarning)\n",
            "/Users/anaconda3/lib/python3.7/site-packages/sklearn/utils/deprecation.py:85: DeprecationWarning: Function calinski_harabaz_score is deprecated; Function 'calinski_harabaz_score' has been renamed to 'calinski_harabasz_score' and will be removed in version 0.23.\n",
            "  warnings.warn(msg, category=DeprecationWarning)\n"
          ]
        }
      ],
      "source": [
        "nc=[2,3,4,5,6,7,8,9]\n",
        "ch_score=[]    \n",
        "for i in nc:\n",
        "    km=KMeans(i)\n",
        "    y=km.fit_predict(iris.iloc[:,:4])\n",
        "    ch_score.append(chs(iris.iloc[:,:4],y))"
      ]
    },
    {
      "cell_type": "code",
      "execution_count": null,
      "metadata": {
        "ExecuteTime": {
          "end_time": "2021-02-21T01:12:44.966908Z",
          "start_time": "2021-02-21T01:12:44.798336Z"
        },
        "id": "_TzL5MeIPQ4L",
        "outputId": "cd3eeb2e-8202-4363-c642-33098fbfe4e4"
      },
      "outputs": [
        {
          "data": {
            "image/png": "[encoded data removed]",
            "text/plain": [
              "<Figure size 432x288 with 1 Axes>"
            ]
          },
          "metadata": {
            "needs_background": "light"
          },
          "output_type": "display_data"
        }
      ],
      "source": [
        "plt.plot(nc,ch_score,color=\"black\")\n",
        "plt.scatter(nc,ch_score,color=\"red\")\n",
        "plt.show()"
      ]
    },
    {
      "cell_type": "code",
      "execution_count": null,
      "metadata": {
        "id": "fMPqMrGEPQ4M"
      },
      "outputs": [],
      "source": [
        ""
      ]
    }
  ],
  "metadata": {
    "kernelspec": {
      "display_name": "Python 3",
      "language": "python",
      "name": "python3"
    },
    "language_info": {
      "codemirror_mode": {
        "name": "ipython",
        "version": 3
      },
      "file_extension": ".py",
      "mimetype": "text/x-python",
      "name": "python",
      "nbconvert_exporter": "python",
      "pygments_lexer": "ipython3",
      "version": "3.7.4"
    },
    "colab": {
      "name": "Hierarchical Clustering (1).ipynb",
      "provenance": []
    }
  },
  "nbformat": 4,
  "nbformat_minor": 0
}